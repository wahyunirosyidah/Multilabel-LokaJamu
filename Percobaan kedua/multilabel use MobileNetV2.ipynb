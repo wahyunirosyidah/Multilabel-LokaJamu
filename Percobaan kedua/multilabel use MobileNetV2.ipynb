{
 "cells": [
  {
   "cell_type": "code",
   "execution_count": 1,
   "metadata": {},
   "outputs": [],
   "source": [
    "import tensorflow as tf\n",
    "import numpy as np\n",
    "from tensorflow.keras.layers import Dense, Flatten, Dropout, Conv2D, MaxPooling2D\n",
    "from tensorflow.keras.models import Sequential\n",
    "from tensorflow.keras.preprocessing.image import ImageDataGenerator\n",
    "from tensorflow.keras.applications import MobileNet, MobileNetV2\n",
    "from tensorflow.keras.metrics import BinaryAccuracy\n",
    "import matplotlib.pyplot as plt\n",
    "import seaborn as sns\n",
    "import os"
   ]
  },
  {
   "cell_type": "code",
   "execution_count": 2,
   "metadata": {},
   "outputs": [
    {
     "name": "stdout",
     "output_type": "stream",
     "text": [
      "Base Directory: ['LokaJamu-7.txt', 'train', 'valid']\n",
      "Data Directory: ['Belimbing Sayur', 'Bunga Lawang', 'Jahe', 'Jeruk Nipis', 'Kunyit', 'Lengkuas', 'Mengkudu']\n",
      "Data Directory: ['Belimbing Sayur', 'Bunga Lawang', 'Jahe', 'Jeruk Nipis', 'Kunyit', 'Lengkuas', 'Mengkudu']\n"
     ]
    }
   ],
   "source": [
    "# Directory Path\n",
    "BASE_DIR = 'Dataset2'\n",
    "print(f\"Base Directory: {os.listdir(BASE_DIR)}\")\n",
    "\n",
    "data_train='Dataset2/train'\n",
    "print(f\"Data Directory: {os.listdir(data_train)}\")\n",
    "data_validation='Dataset2/valid'\n",
    "print(f\"Data Directory: {os.listdir(data_validation)}\")"
   ]
  },
  {
   "cell_type": "code",
   "execution_count": 3,
   "metadata": {},
   "outputs": [],
   "source": [
    "# Define constants\n",
    "BATCH_SIZE = 32  # Set your batch size\n",
    "NUM_CLASSES = 7  # Set the number of classes\n",
    "CLASS_MODE='categorical'"
   ]
  },
  {
   "cell_type": "code",
   "execution_count": 4,
   "metadata": {},
   "outputs": [],
   "source": [
    "# Data augmentation for training and rescaling for validation\n",
    "train_datagen = ImageDataGenerator(\n",
    "    rescale=1/255,\n",
    "    rotation_range=10,\n",
    "    width_shift_range=0.2,\n",
    "    height_shift_range=0.2,\n",
    "    shear_range=0.2,\n",
    "    zoom_range=0.2,\n",
    "    horizontal_flip=True,\n",
    "    vertical_flip=True,\n",
    "    fill_mode='reflect'\n",
    ")\n",
    "\n",
    "test_datagen = ImageDataGenerator(\n",
    "    rescale=1./255\n",
    ")"
   ]
  },
  {
   "cell_type": "code",
   "execution_count": 5,
   "metadata": {},
   "outputs": [
    {
     "name": "stdout",
     "output_type": "stream",
     "text": [
      "Found 2055 images belonging to 7 classes.\n",
      "Found 487 images belonging to 7 classes.\n"
     ]
    }
   ],
   "source": [
    "# Use binary class mode for multi-label classification\n",
    "train_generator = train_datagen.flow_from_directory(\n",
    "    data_train,\n",
    "    target_size=(224, 224),\n",
    "    batch_size=BATCH_SIZE,\n",
    "    class_mode=CLASS_MODE # Change to 'binary' for multi-label\n",
    ")\n",
    "\n",
    "validation_generator = test_datagen.flow_from_directory(\n",
    "    data_validation,\n",
    "    target_size=(224, 224),\n",
    "    batch_size=BATCH_SIZE,\n",
    "    class_mode=CLASS_MODE # Change to 'binary' for multi-label\n",
    ")\n"
   ]
  },
  {
   "cell_type": "code",
   "execution_count": 6,
   "metadata": {},
   "outputs": [
    {
     "name": "stdout",
     "output_type": "stream",
     "text": [
      "AttributeError: module 'ml_dtypes' has no attribute 'float8_e3m4'\n"
     ]
    }
   ],
   "source": [
    "# Load the pre-trained MobileNetV2 model\n",
    "pre_trained_model = MobileNetV2(input_shape=(224, 224, 3), include_top=False)\n",
    "\n",
    "# Freeze the layers of the pre-trained model\n",
    "for layer in pre_trained_model.layers:\n",
    "    layer.trainable = False\n"
   ]
  },
  {
   "cell_type": "code",
   "execution_count": 7,
   "metadata": {},
   "outputs": [],
   "source": [
    "def based_model():\n",
    "    model = tf.keras.models.Sequential([\n",
    "        pre_trained_model,\n",
    "        tf.keras.layers.Flatten(),\n",
    "        tf.keras.layers.Dense(128, activation='relu'),\n",
    "        tf.keras.layers.Dropout(0.2),\n",
    "        tf.keras.layers.Dense(NUM_CLASSES, activation='sigmoid')  # Change to sigmoid for multi-label\n",
    "    ])\n",
    "    return model\n"
   ]
  },
  {
   "cell_type": "code",
   "execution_count": 8,
   "metadata": {},
   "outputs": [
    {
     "data": {
      "text/html": [
       "<pre style=\"white-space:pre;overflow-x:auto;line-height:normal;font-family:Menlo,'DejaVu Sans Mono',consolas,'Courier New',monospace\"><span style=\"font-weight: bold\">Model: \"sequential\"</span>\n",
       "</pre>\n"
      ],
      "text/plain": [
       "\u001b[1mModel: \"sequential\"\u001b[0m\n"
      ]
     },
     "metadata": {},
     "output_type": "display_data"
    },
    {
     "data": {
      "text/html": [
       "<pre style=\"white-space:pre;overflow-x:auto;line-height:normal;font-family:Menlo,'DejaVu Sans Mono',consolas,'Courier New',monospace\">┏━━━━━━━━━━━━━━━━━━━━━━━━━━━━━━━━━┳━━━━━━━━━━━━━━━━━━━━━━━━┳━━━━━━━━━━━━━━━┓\n",
       "┃<span style=\"font-weight: bold\"> Layer (type)                    </span>┃<span style=\"font-weight: bold\"> Output Shape           </span>┃<span style=\"font-weight: bold\">       Param # </span>┃\n",
       "┡━━━━━━━━━━━━━━━━━━━━━━━━━━━━━━━━━╇━━━━━━━━━━━━━━━━━━━━━━━━╇━━━━━━━━━━━━━━━┩\n",
       "│ mobilenetv2_1.00_224            │ (<span style=\"color: #00d7ff; text-decoration-color: #00d7ff\">None</span>, <span style=\"color: #00af00; text-decoration-color: #00af00\">7</span>, <span style=\"color: #00af00; text-decoration-color: #00af00\">7</span>, <span style=\"color: #00af00; text-decoration-color: #00af00\">1280</span>)     │     <span style=\"color: #00af00; text-decoration-color: #00af00\">2,257,984</span> │\n",
       "│ (<span style=\"color: #0087ff; text-decoration-color: #0087ff\">Functional</span>)                    │                        │               │\n",
       "├─────────────────────────────────┼────────────────────────┼───────────────┤\n",
       "│ flatten (<span style=\"color: #0087ff; text-decoration-color: #0087ff\">Flatten</span>)               │ (<span style=\"color: #00d7ff; text-decoration-color: #00d7ff\">None</span>, <span style=\"color: #00af00; text-decoration-color: #00af00\">62720</span>)          │             <span style=\"color: #00af00; text-decoration-color: #00af00\">0</span> │\n",
       "├─────────────────────────────────┼────────────────────────┼───────────────┤\n",
       "│ dense (<span style=\"color: #0087ff; text-decoration-color: #0087ff\">Dense</span>)                   │ (<span style=\"color: #00d7ff; text-decoration-color: #00d7ff\">None</span>, <span style=\"color: #00af00; text-decoration-color: #00af00\">128</span>)            │     <span style=\"color: #00af00; text-decoration-color: #00af00\">8,028,288</span> │\n",
       "├─────────────────────────────────┼────────────────────────┼───────────────┤\n",
       "│ dropout (<span style=\"color: #0087ff; text-decoration-color: #0087ff\">Dropout</span>)               │ (<span style=\"color: #00d7ff; text-decoration-color: #00d7ff\">None</span>, <span style=\"color: #00af00; text-decoration-color: #00af00\">128</span>)            │             <span style=\"color: #00af00; text-decoration-color: #00af00\">0</span> │\n",
       "├─────────────────────────────────┼────────────────────────┼───────────────┤\n",
       "│ dense_1 (<span style=\"color: #0087ff; text-decoration-color: #0087ff\">Dense</span>)                 │ (<span style=\"color: #00d7ff; text-decoration-color: #00d7ff\">None</span>, <span style=\"color: #00af00; text-decoration-color: #00af00\">7</span>)              │           <span style=\"color: #00af00; text-decoration-color: #00af00\">903</span> │\n",
       "└─────────────────────────────────┴────────────────────────┴───────────────┘\n",
       "</pre>\n"
      ],
      "text/plain": [
       "┏━━━━━━━━━━━━━━━━━━━━━━━━━━━━━━━━━┳━━━━━━━━━━━━━━━━━━━━━━━━┳━━━━━━━━━━━━━━━┓\n",
       "┃\u001b[1m \u001b[0m\u001b[1mLayer (type)                   \u001b[0m\u001b[1m \u001b[0m┃\u001b[1m \u001b[0m\u001b[1mOutput Shape          \u001b[0m\u001b[1m \u001b[0m┃\u001b[1m \u001b[0m\u001b[1m      Param #\u001b[0m\u001b[1m \u001b[0m┃\n",
       "┡━━━━━━━━━━━━━━━━━━━━━━━━━━━━━━━━━╇━━━━━━━━━━━━━━━━━━━━━━━━╇━━━━━━━━━━━━━━━┩\n",
       "│ mobilenetv2_1.00_224            │ (\u001b[38;5;45mNone\u001b[0m, \u001b[38;5;34m7\u001b[0m, \u001b[38;5;34m7\u001b[0m, \u001b[38;5;34m1280\u001b[0m)     │     \u001b[38;5;34m2,257,984\u001b[0m │\n",
       "│ (\u001b[38;5;33mFunctional\u001b[0m)                    │                        │               │\n",
       "├─────────────────────────────────┼────────────────────────┼───────────────┤\n",
       "│ flatten (\u001b[38;5;33mFlatten\u001b[0m)               │ (\u001b[38;5;45mNone\u001b[0m, \u001b[38;5;34m62720\u001b[0m)          │             \u001b[38;5;34m0\u001b[0m │\n",
       "├─────────────────────────────────┼────────────────────────┼───────────────┤\n",
       "│ dense (\u001b[38;5;33mDense\u001b[0m)                   │ (\u001b[38;5;45mNone\u001b[0m, \u001b[38;5;34m128\u001b[0m)            │     \u001b[38;5;34m8,028,288\u001b[0m │\n",
       "├─────────────────────────────────┼────────────────────────┼───────────────┤\n",
       "│ dropout (\u001b[38;5;33mDropout\u001b[0m)               │ (\u001b[38;5;45mNone\u001b[0m, \u001b[38;5;34m128\u001b[0m)            │             \u001b[38;5;34m0\u001b[0m │\n",
       "├─────────────────────────────────┼────────────────────────┼───────────────┤\n",
       "│ dense_1 (\u001b[38;5;33mDense\u001b[0m)                 │ (\u001b[38;5;45mNone\u001b[0m, \u001b[38;5;34m7\u001b[0m)              │           \u001b[38;5;34m903\u001b[0m │\n",
       "└─────────────────────────────────┴────────────────────────┴───────────────┘\n"
      ]
     },
     "metadata": {},
     "output_type": "display_data"
    },
    {
     "data": {
      "text/html": [
       "<pre style=\"white-space:pre;overflow-x:auto;line-height:normal;font-family:Menlo,'DejaVu Sans Mono',consolas,'Courier New',monospace\"><span style=\"font-weight: bold\"> Total params: </span><span style=\"color: #00af00; text-decoration-color: #00af00\">10,287,175</span> (39.24 MB)\n",
       "</pre>\n"
      ],
      "text/plain": [
       "\u001b[1m Total params: \u001b[0m\u001b[38;5;34m10,287,175\u001b[0m (39.24 MB)\n"
      ]
     },
     "metadata": {},
     "output_type": "display_data"
    },
    {
     "data": {
      "text/html": [
       "<pre style=\"white-space:pre;overflow-x:auto;line-height:normal;font-family:Menlo,'DejaVu Sans Mono',consolas,'Courier New',monospace\"><span style=\"font-weight: bold\"> Trainable params: </span><span style=\"color: #00af00; text-decoration-color: #00af00\">8,029,191</span> (30.63 MB)\n",
       "</pre>\n"
      ],
      "text/plain": [
       "\u001b[1m Trainable params: \u001b[0m\u001b[38;5;34m8,029,191\u001b[0m (30.63 MB)\n"
      ]
     },
     "metadata": {},
     "output_type": "display_data"
    },
    {
     "data": {
      "text/html": [
       "<pre style=\"white-space:pre;overflow-x:auto;line-height:normal;font-family:Menlo,'DejaVu Sans Mono',consolas,'Courier New',monospace\"><span style=\"font-weight: bold\"> Non-trainable params: </span><span style=\"color: #00af00; text-decoration-color: #00af00\">2,257,984</span> (8.61 MB)\n",
       "</pre>\n"
      ],
      "text/plain": [
       "\u001b[1m Non-trainable params: \u001b[0m\u001b[38;5;34m2,257,984\u001b[0m (8.61 MB)\n"
      ]
     },
     "metadata": {},
     "output_type": "display_data"
    }
   ],
   "source": [
    "model = based_model()\n",
    "model.summary()"
   ]
  },
  {
   "cell_type": "code",
   "execution_count": 9,
   "metadata": {},
   "outputs": [],
   "source": [
    "\n",
    "# Compile the model with binary crossentropy loss\n",
    "model.compile(loss='binary_crossentropy',  # Change to binary_crossentropy\n",
    "              optimizer=tf.optimizers.Adam(),\n",
    "              metrics=[BinaryAccuracy()])\n"
   ]
  },
  {
   "cell_type": "code",
   "execution_count": 12,
   "metadata": {},
   "outputs": [],
   "source": [
    "from tensorflow.keras.callbacks import EarlyStopping\n",
    "\n",
    "early_stopping = EarlyStopping(\n",
    "    monitor='val_loss',  # Metric yang diamati\n",
    "    patience=5,          # Epoch tanpa perbaikan sebelum pelatihan dihentikan\n",
    "    restore_best_weights=True  # Kembalikan bobot terbaik setelah pelatihan berhenti\n",
    ")\n",
    "\n",
    "from tensorflow.keras.callbacks import ReduceLROnPlateau\n",
    "\n",
    "reduce_lr = ReduceLROnPlateau(\n",
    "    monitor='val_loss',  # Metric yang diamati\n",
    "    factor=0.1,          # Faktor pengurangan learning rate (misal, dikali 0.1)\n",
    "    patience=3,          # Epoch tanpa perbaikan sebelum learning rate dikurangi\n",
    "    min_lr=1e-6          # Batas minimum learning rate\n",
    ")\n",
    "\n",
    "\n",
    "# Callbacks\n",
    "class EarlyStoppingCallback(tf.keras.callbacks.Callback):\n",
    "    def on_epoch_end(self, epoch, logs=None):\n",
    "        train_accuracy = logs.get('binary_accuracy')\n",
    "        val_accuracy = logs.get('val_binary_accuracy')\n",
    "\n",
    "        if train_accuracy >= 0.98 and val_accuracy >= 0.98:\n",
    "            self.model.stop_training = True\n",
    "            print(\"\\nReached 95% train accuracy and 85% validation accuracy, so cancelling training!\")\n"
   ]
  },
  {
   "cell_type": "code",
   "execution_count": 13,
   "metadata": {},
   "outputs": [
    {
     "name": "stdout",
     "output_type": "stream",
     "text": [
      "Epoch 1/20\n",
      "\u001b[1m65/65\u001b[0m \u001b[32m━━━━━━━━━━━━━━━━━━━━\u001b[0m\u001b[37m\u001b[0m \u001b[1m89s\u001b[0m 1s/step - binary_accuracy: 0.9723 - loss: 0.0701 - val_binary_accuracy: 0.9871 - val_loss: 0.0341 - learning_rate: 0.0010\n",
      "Epoch 2/20\n",
      "\u001b[1m65/65\u001b[0m \u001b[32m━━━━━━━━━━━━━━━━━━━━\u001b[0m\u001b[37m\u001b[0m \u001b[1m0s\u001b[0m 1s/step - binary_accuracy: 0.9821 - loss: 0.0451\n",
      "Reached 95% train accuracy and 85% validation accuracy, so cancelling training!\n",
      "\u001b[1m65/65\u001b[0m \u001b[32m━━━━━━━━━━━━━━━━━━━━\u001b[0m\u001b[37m\u001b[0m \u001b[1m86s\u001b[0m 1s/step - binary_accuracy: 0.9821 - loss: 0.0451 - val_binary_accuracy: 0.9868 - val_loss: 0.0331 - learning_rate: 0.0010\n"
     ]
    }
   ],
   "source": [
    "epoch = 20\n",
    "history = model.fit(train_generator, \n",
    "                    batch_size=BATCH_SIZE, \n",
    "                    epochs=epoch, \n",
    "                    validation_data=validation_generator, \n",
    "                    shuffle=True,\n",
    "                    callbacks=[EarlyStoppingCallback(), early_stopping, reduce_lr])"
   ]
  },
  {
   "cell_type": "code",
   "execution_count": null,
   "metadata": {},
   "outputs": [
    {
     "name": "stdout",
     "output_type": "stream",
     "text": [
      "\u001b[1m16/16\u001b[0m \u001b[32m━━━━━━━━━━━━━━━━━━━━\u001b[0m\u001b[37m\u001b[0m \u001b[1m16s\u001b[0m 961ms/step - binary_accuracy: 0.9860 - loss: 0.0440\n",
      "Test Accuracy 0.9847462773323059\n"
     ]
    }
   ],
   "source": [
    "ds = validation_generator\n",
    "print(\"Test Accuracy\", model.evaluate(ds)[1])"
   ]
  },
  {
   "cell_type": "code",
   "execution_count": null,
   "metadata": {},
   "outputs": [
    {
     "name": "stdout",
     "output_type": "stream",
     "text": [
      "\u001b[1m16/16\u001b[0m \u001b[32m━━━━━━━━━━━━━━━━━━━━\u001b[0m\u001b[37m\u001b[0m \u001b[1m16s\u001b[0m 962ms/step - binary_accuracy: 0.9844 - loss: 0.0484\n",
      "Loss Accuracy 0.04862647131085396\n"
     ]
    }
   ],
   "source": [
    "print(\"Loss Accuracy\", model.evaluate(ds)[0])"
   ]
  },
  {
   "cell_type": "code",
   "execution_count": 14,
   "metadata": {},
   "outputs": [],
   "source": [
    "train_loss=history.history['loss']\n",
    "val_loss=history.history['val_loss']\n",
    "\n",
    "train_acc= history.history['binary_accuracy']\n",
    "val_acc= history.history['val_binary_accuracy']"
   ]
  },
  {
   "cell_type": "code",
   "execution_count": 15,
   "metadata": {},
   "outputs": [
    {
     "data": {
      "image/png": "[encoded data removed]",
      "text/plain": [
       "<Figure size 640x480 with 1 Axes>"
      ]
     },
     "metadata": {},
     "output_type": "display_data"
    },
    {
     "data": {
      "image/png": "[encoded data removed]",
      "text/plain": [
       "<Figure size 640x480 with 1 Axes>"
      ]
     },
     "metadata": {},
     "output_type": "display_data"
    }
   ],
   "source": [
    "plt.plot(history.history['binary_accuracy'])\n",
    "plt.plot(history.history['val_binary_accuracy'])\n",
    "plt.title(\"model accuracy\")\n",
    "plt.ylabel('binary_accuracy')\n",
    "plt.xlabel('epoch')\n",
    "plt.legend([\"Train\", 'Validation'], loc='upper left')\n",
    "plt.show()\n",
    "\n",
    "\n",
    "plt.plot(history.history['loss'])\n",
    "plt.plot(history.history['val_loss'])\n",
    "plt.title(\"model loss\")\n",
    "plt.ylabel(\"loss\")\n",
    "plt.xlabel('epoch')\n",
    "plt.legend([\"Train\", 'Validation'], loc='upper left')\n",
    "plt.show()"
   ]
  },
  {
   "cell_type": "markdown",
   "metadata": {},
   "source": [
    "Predict "
   ]
  },
  {
   "cell_type": "code",
   "execution_count": 16,
   "metadata": {},
   "outputs": [
    {
     "name": "stdout",
     "output_type": "stream",
     "text": [
      "\u001b[1m1/1\u001b[0m \u001b[32m━━━━━━━━━━━━━━━━━━━━\u001b[0m\u001b[37m\u001b[0m \u001b[1m2s\u001b[0m 2s/step\n",
      "Jeruk Nipis 1.0\n"
     ]
    }
   ],
   "source": [
    "from tensorflow.keras.preprocessing import image\n",
    "\n",
    "image_path='Dataset2/train/Jeruk Nipis/6a3809c9-790b-4df2-9dc1-ad133d93dc92.jpg'\n",
    "img= image.load_img(image_path, target_size=(224,224))\n",
    "\n",
    "#Convert image to numpy array\n",
    "x = image.img_to_array(img)\n",
    "x = np.expand_dims(x, axis=0)\n",
    "x = x/255.0 \n",
    "\n",
    "#Predict\n",
    "pred = model.predict(x)\n",
    "labels = ['Belimbing Sayur', 'Bunga Lawang', 'Jahe', 'Jeruk Nipis', 'Kunyit', 'Lengkuas', 'Mengkudu']\n",
    "for i, p in enumerate(pred[0]):\n",
    "    if p>0.5:\n",
    "        print(labels[i], p)"
   ]
  },
  {
   "cell_type": "markdown",
   "metadata": {},
   "source": [
    "## Memprediksi 2 Bahan"
   ]
  },
  {
   "cell_type": "code",
   "execution_count": 17,
   "metadata": {},
   "outputs": [
    {
     "name": "stdout",
     "output_type": "stream",
     "text": [
      "\u001b[1m1/1\u001b[0m \u001b[32m━━━━━━━━━━━━━━━━━━━━\u001b[0m\u001b[37m\u001b[0m \u001b[1m0s\u001b[0m 113ms/step\n",
      "Jeruk Nipis: 1.00\n",
      "Jahe: 0.00\n"
     ]
    }
   ],
   "source": [
    "import numpy as np\n",
    "from tensorflow.keras.preprocessing import image\n",
    "\n",
    "# Load image\n",
    "image_path = 'jahe dan jeruk nipis.jpg'\n",
    "img = image.load_img(image_path, target_size=(224, 224))\n",
    "\n",
    "# Convert image to numpy array\n",
    "x = image.img_to_array(img)\n",
    "x = np.expand_dims(x, axis=0)\n",
    "x = x / 255.0 \n",
    "\n",
    "# Predict\n",
    "pred = model.predict(x)\n",
    "labels = ['Belimbing Sayur', 'Bunga Lawang', 'Jahe', 'Jeruk Nipis', 'Kunyit', 'Lengkuas', 'Mengkudu']\n",
    "\n",
    "# Get indices of top 2 predictions\n",
    "top_2_indices = np.argsort(pred[0])[-2:]  # Ambil dua indeks tertinggi (urutkan dari kecil ke besar)\n",
    "top_2_indices = top_2_indices[::-1]  # Balik urutan menjadi besar ke kecil\n",
    "\n",
    "# Print top 2 predictions with their probabilities\n",
    "for i in top_2_indices:\n",
    "    print(f\"{labels[i]}: {pred[0][i]:.2f}\")\n"
   ]
  },
  {
   "cell_type": "code",
   "execution_count": 18,
   "metadata": {},
   "outputs": [
    {
     "name": "stdout",
     "output_type": "stream",
     "text": [
      "\u001b[1m1/1\u001b[0m \u001b[32m━━━━━━━━━━━━━━━━━━━━\u001b[0m\u001b[37m\u001b[0m \u001b[1m0s\u001b[0m 46ms/step\n",
      "Jeruk Nipis: 0.94\n",
      "Jahe: 0.05\n"
     ]
    }
   ],
   "source": [
    "import numpy as np\n",
    "from tensorflow.keras.preprocessing import image\n",
    "\n",
    "# Load image\n",
    "image_path = 'jahe dan jeruk nipis2.jpg'\n",
    "img = image.load_img(image_path, target_size=(224, 224))\n",
    "\n",
    "# Convert image to numpy array\n",
    "x = image.img_to_array(img)\n",
    "x = np.expand_dims(x, axis=0)\n",
    "x = x / 255.0 \n",
    "\n",
    "# Predict\n",
    "pred = model.predict(x)\n",
    "labels = ['Belimbing Sayur', 'Bunga Lawang', 'Jahe', 'Jeruk Nipis', 'Kunyit', 'Lengkuas', 'Mengkudu']\n",
    "\n",
    "# Get indices of top 2 predictions\n",
    "top_2_indices = np.argsort(pred[0])[-2:]  # Ambil dua indeks tertinggi (urutkan dari kecil ke besar)\n",
    "top_2_indices = top_2_indices[::-1]  # Balik urutan menjadi besar ke kecil\n",
    "\n",
    "# Print top 2 predictions with their probabilities\n",
    "for i in top_2_indices:\n",
    "    print(f\"{labels[i]}: {pred[0][i]:.2f}\")\n"
   ]
  },
  {
   "cell_type": "markdown",
   "metadata": {},
   "source": [
    "## Memprediksi 3 Bahan"
   ]
  },
  {
   "cell_type": "code",
   "execution_count": 19,
   "metadata": {},
   "outputs": [
    {
     "name": "stdout",
     "output_type": "stream",
     "text": [
      "\u001b[1m1/1\u001b[0m \u001b[32m━━━━━━━━━━━━━━━━━━━━\u001b[0m\u001b[37m\u001b[0m \u001b[1m0s\u001b[0m 53ms/step\n",
      "Jahe: 0.10\n",
      "Kunyit: 0.03\n",
      "Bunga Lawang: 0.01\n"
     ]
    }
   ],
   "source": [
    "import numpy as np\n",
    "from tensorflow.keras.preprocessing import image\n",
    "\n",
    "# Load image\n",
    "image_path = 'jeruk nipis dan bunga lawang.jpg'\n",
    "img = image.load_img(image_path, target_size=(224, 224))\n",
    "\n",
    "# Convert image to numpy array\n",
    "x = image.img_to_array(img)\n",
    "x = np.expand_dims(x, axis=0)\n",
    "x = x / 255.0 \n",
    "\n",
    "# Predict\n",
    "pred = model.predict(x)\n",
    "labels = ['Belimbing Sayur', 'Bunga Lawang', 'Jahe', 'Jeruk Nipis', 'Kunyit', 'Lengkuas', 'Mengkudu']\n",
    "\n",
    "# Get indices of top 2 predictions\n",
    "top_2_indices = np.argsort(pred[0])[-3:]  # Ambil dua indeks tertinggi (urutkan dari kecil ke besar)\n",
    "top_2_indices = top_2_indices[::-1]  # Balik urutan menjadi besar ke kecil\n",
    "\n",
    "# Print top 2 predictions with their probabilities\n",
    "for i in top_2_indices:\n",
    "    print(f\"{labels[i]}: {pred[0][i]:.2f}\")\n"
   ]
  },
  {
   "cell_type": "code",
   "execution_count": 20,
   "metadata": {},
   "outputs": [
    {
     "name": "stdout",
     "output_type": "stream",
     "text": [
      "\u001b[1m1/1\u001b[0m \u001b[32m━━━━━━━━━━━━━━━━━━━━\u001b[0m\u001b[37m\u001b[0m \u001b[1m0s\u001b[0m 46ms/step\n",
      "Lengkuas: 0.49\n",
      "Jahe: 0.46\n",
      "Kunyit: 0.35\n"
     ]
    }
   ],
   "source": [
    "import numpy as np\n",
    "from tensorflow.keras.preprocessing import image\n",
    "\n",
    "# Load image\n",
    "image_path = 'test1.jpg'\n",
    "img = image.load_img(image_path, target_size=(224, 224))\n",
    "\n",
    "# Convert image to numpy array\n",
    "x = image.img_to_array(img)\n",
    "x = np.expand_dims(x, axis=0)\n",
    "x = x / 255.0 \n",
    "\n",
    "# Predict\n",
    "pred = model.predict(x)\n",
    "labels = ['Belimbing Sayur', 'Bunga Lawang', 'Jahe', 'Jeruk Nipis', 'Kunyit', 'Lengkuas', 'Mengkudu']\n",
    "\n",
    "# Get indices of top 2 predictions\n",
    "top_2_indices = np.argsort(pred[0])[-3:]  # Ambil dua indeks tertinggi (urutkan dari kecil ke besar)\n",
    "top_2_indices = top_2_indices[::-1]  # Balik urutan menjadi besar ke kecil\n",
    "\n",
    "# Print top 2 predictions with their probabilities\n",
    "for i in top_2_indices:\n",
    "    print(f\"{labels[i]}: {pred[0][i]:.2f}\")\n"
   ]
  },
  {
   "cell_type": "markdown",
   "metadata": {},
   "source": [
    "### Menggunakan Tracehold"
   ]
  },
  {
   "cell_type": "code",
   "execution_count": 21,
   "metadata": {},
   "outputs": [
    {
     "name": "stdout",
     "output_type": "stream",
     "text": [
      "\u001b[1m1/1\u001b[0m \u001b[32m━━━━━━━━━━━━━━━━━━━━\u001b[0m\u001b[37m\u001b[0m \u001b[1m0s\u001b[0m 191ms/step\n",
      "Detected items:\n",
      "Jeruk Nipis: 1.00\n"
     ]
    }
   ],
   "source": [
    "import numpy as np\n",
    "from tensorflow.keras.preprocessing import image\n",
    "\n",
    "# Load image\n",
    "image_path = '6a3809c9-790b-4df2-9dc1-ad133d93dc92.jpg'\n",
    "img = image.load_img(image_path, target_size=(224, 224))\n",
    "\n",
    "# Convert image to numpy array\n",
    "x = image.img_to_array(img)\n",
    "x = np.expand_dims(x, axis=0)\n",
    "x = x / 255.0 \n",
    "\n",
    "# Predict\n",
    "pred = model.predict(x)\n",
    "labels = ['Belimbing Sayur', 'Bunga Lawang', 'Jahe', 'Jeruk Nipis', 'Kunyit', 'Lengkuas', 'Mengkudu']\n",
    "\n",
    "# Set probability threshold\n",
    "threshold = 0.1  # Probabilitas minimum untuk dianggap \"terdeteksi\"\n",
    "\n",
    "# Filter predictions based on threshold\n",
    "filtered_predictions = [(labels[i], prob) for i, prob in enumerate(pred[0]) if prob > threshold]\n",
    "\n",
    "# Sort predictions by probability in descending order\n",
    "filtered_predictions = sorted(filtered_predictions, key=lambda x: x[1], reverse=True)\n",
    "\n",
    "# Print filtered predictions\n",
    "if filtered_predictions:\n",
    "    print(\"Detected items:\")\n",
    "    for label, prob in filtered_predictions:\n",
    "        print(f\"{label}: {prob:.2f}\")\n",
    "else:\n",
    "    print(\"No items detected with the given threshold.\")\n"
   ]
  },
  {
   "cell_type": "code",
   "execution_count": 22,
   "metadata": {},
   "outputs": [
    {
     "name": "stdout",
     "output_type": "stream",
     "text": [
      "\u001b[1m1/1\u001b[0m \u001b[32m━━━━━━━━━━━━━━━━━━━━\u001b[0m\u001b[37m\u001b[0m \u001b[1m0s\u001b[0m 53ms/step\n",
      "Probabilities for all labels:\n",
      "Belimbing Sayur: 0.00\n",
      "Bunga Lawang: 0.00\n",
      "Jahe: 0.00\n",
      "Jeruk Nipis: 0.00\n",
      "Kunyit: 0.17\n",
      "Lengkuas: 0.70\n",
      "Mengkudu: 0.00\n",
      "\n",
      "Detected 3 item(s):\n",
      "Lengkuas: 0.70\n",
      "Kunyit: 0.17\n",
      "Jahe: 0.00\n"
     ]
    }
   ],
   "source": [
    "import numpy as np\n",
    "from tensorflow.keras.preprocessing import image\n",
    "\n",
    "# Load image\n",
    "image_path = 'jahe dan lengkuas.jpg'\n",
    "img = image.load_img(image_path, target_size=(224, 224))\n",
    "\n",
    "# Convert image to numpy array\n",
    "x = image.img_to_array(img)\n",
    "x = np.expand_dims(x, axis=0)\n",
    "x = x / 255.0 \n",
    "\n",
    "# Predict\n",
    "pred = model.predict(x)  # Model harus sudah didefinisikan sebelumnya\n",
    "labels = ['Belimbing Sayur', 'Bunga Lawang', 'Jahe', 'Jeruk Nipis', 'Kunyit', 'Lengkuas', 'Mengkudu']\n",
    "\n",
    "# Debugging: Print probabilities for all labels\n",
    "print(\"Probabilities for all labels:\")\n",
    "for label, prob in zip(labels, pred[0]):\n",
    "    print(f\"{label}: {prob:.2f}\")\n",
    "\n",
    "# Set probability threshold\n",
    "threshold = 0.001  # Probabilitas minimum untuk dianggap \"terdeteksi\"\n",
    "\n",
    "# Get labels with probabilities above the threshold\n",
    "detected_labels = [(labels[i], prob) for i, prob in enumerate(pred[0]) if prob > threshold]\n",
    "\n",
    "# Sort detected labels by probability in descending order\n",
    "detected_labels = sorted(detected_labels, key=lambda x: x[1], reverse=True)\n",
    "\n",
    "# Print detected labels with their probabilities\n",
    "if detected_labels:\n",
    "    print(f\"\\nDetected {len(detected_labels)} item(s):\")\n",
    "    for label, prob in detected_labels:\n",
    "        print(f\"{label}: {prob:.2f}\")\n",
    "else:\n",
    "    print(\"\\nNo items detected with the given threshold.\")\n",
    "\n",
    "# Recommendation: Adjust threshold if needed\n",
    "if len(detected_labels) < 2:  # Contoh kondisi jika hanya 1 atau kurang yang terdeteksi\n",
    "    print(\"\\nConsider lowering the threshold for better detection results.\")\n"
   ]
  },
  {
   "cell_type": "code",
   "execution_count": null,
   "metadata": {},
   "outputs": [],
   "source": []
  },
  {
   "cell_type": "code",
   "execution_count": null,
   "metadata": {},
   "outputs": [],
   "source": []
  }
 ],
 "metadata": {
  "kernelspec": {
   "display_name": "Python 3",
   "language": "python",
   "name": "python3"
  },
  "language_info": {
   "codemirror_mode": {
    "name": "ipython",
    "version": 3
   },
   "file_extension": ".py",
   "mimetype": "text/x-python",
   "name": "python",
   "nbconvert_exporter": "python",
   "pygments_lexer": "ipython3",
   "version": "3.12.2"
  }
 },
 "nbformat": 4,
 "nbformat_minor": 2
}

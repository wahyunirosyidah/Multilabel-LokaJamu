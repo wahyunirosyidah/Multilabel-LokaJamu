{
 "cells": [
  {
   "cell_type": "code",
   "execution_count": 11,
   "metadata": {},
   "outputs": [],
   "source": [
    "import tensorflow as tf\n",
    "import numpy as np\n",
    "from tensorflow.keras.layers import Dense, Flatten, Dropout, Conv2D, MaxPooling2D\n",
    "from tensorflow.keras.models import Sequential\n",
    "from tensorflow.keras.preprocessing.image import ImageDataGenerator\n",
    "from tensorflow.keras.applications import MobileNet, MobileNetV2\n",
    "from tensorflow.keras.metrics import BinaryAccuracy\n",
    "import matplotlib.pyplot as plt\n",
    "import seaborn as sns\n",
    "import os"
   ]
  },
  {
   "cell_type": "code",
   "execution_count": 12,
   "metadata": {},
   "outputs": [
    {
     "name": "stdout",
     "output_type": "stream",
     "text": [
      "Base Directory: ['LokaJamu-7.txt', 'train', 'valid']\n",
      "Data Directory: ['Belimbing Sayur', 'Bunga Lawang', 'Jahe', 'Jeruk Nipis', 'Kunyit', 'Lengkuas', 'Mengkudu']\n",
      "Data Directory: ['Belimbing Sayur', 'Bunga Lawang', 'Jahe', 'Jeruk Nipis', 'Kunyit', 'Lengkuas', 'Mengkudu']\n"
     ]
    }
   ],
   "source": [
    "# Directory Path\n",
    "BASE_DIR = 'Dataset2'\n",
    "print(f\"Base Directory: {os.listdir(BASE_DIR)}\")\n",
    "\n",
    "data_train='Dataset2/train'\n",
    "print(f\"Data Directory: {os.listdir(data_train)}\")\n",
    "data_validation='Dataset2/valid'\n",
    "print(f\"Data Directory: {os.listdir(data_validation)}\")"
   ]
  },
  {
   "cell_type": "code",
   "execution_count": 13,
   "metadata": {},
   "outputs": [],
   "source": [
    "# Define constants\n",
    "BATCH_SIZE = 32  # Set your batch size\n",
    "NUM_CLASSES = 7  # Set the number of classes\n",
    "CLASS_MODE='categorical'"
   ]
  },
  {
   "cell_type": "code",
   "execution_count": 14,
   "metadata": {},
   "outputs": [],
   "source": [
    "# Data augmentation for training and rescaling for validation\n",
    "train_datagen = ImageDataGenerator(\n",
    "    rescale=1/255,\n",
    "    rotation_range=10,\n",
    "    width_shift_range=0.2,\n",
    "    height_shift_range=0.2,\n",
    "    shear_range=0.2,\n",
    "    zoom_range=0.2,\n",
    "    horizontal_flip=True,\n",
    "    vertical_flip=True,\n",
    "    fill_mode='reflect'\n",
    ")\n",
    "\n",
    "test_datagen = ImageDataGenerator(\n",
    "    rescale=1./255\n",
    ")"
   ]
  },
  {
   "cell_type": "code",
   "execution_count": 15,
   "metadata": {},
   "outputs": [
    {
     "name": "stdout",
     "output_type": "stream",
     "text": [
      "Found 2055 images belonging to 7 classes.\n",
      "Found 487 images belonging to 7 classes.\n"
     ]
    }
   ],
   "source": [
    "# Use binary class mode for multi-label classification\n",
    "train_generator = train_datagen.flow_from_directory(\n",
    "    data_train,\n",
    "    target_size=(224, 224),\n",
    "    batch_size=BATCH_SIZE,\n",
    "    class_mode=CLASS_MODE # Change to 'binary' for multi-label\n",
    ")\n",
    "\n",
    "validation_generator = test_datagen.flow_from_directory(\n",
    "    data_validation,\n",
    "    target_size=(224, 224),\n",
    "    batch_size=BATCH_SIZE,\n",
    "    class_mode=CLASS_MODE # Change to 'binary' for multi-label\n",
    ")\n"
   ]
  },
  {
   "cell_type": "code",
   "execution_count": null,
   "metadata": {},
   "outputs": [],
   "source": [
    "#create model\n",
    "def based_model():\n",
    "    model=tf.keras.models.Sequential([\n",
    "        tf.keras.Input(shape=(224,224,3)),\n",
    "        tf.keras.layers.Rescaling(1./255),\n",
    "        tf.keras.layers.Conv2D(16,(3,3), activation='relu', kernel_regularizer=tf.keras.regularizers.l2(0.01)),\n",
    "        tf.keras.layers.BatchNormalization(),\n",
    "        tf.keras.layers.MaxPooling2D(2,2),\n",
    "        \n",
    "        tf.keras.layers.Conv2D(32,(3,3), activation='relu', kernel_regularizer=tf.keras.regularizers.l2(0.01)),\n",
    "        tf.keras.layers.BatchNormalization(),\n",
    "        tf.keras.layers.MaxPooling2D(2,2),\n",
    "        \n",
    "        tf.keras.layers.Conv2D(64,(3,3), activation='relu', kernel_regularizer=tf.keras.regularizers.l2(0.01)),\n",
    "        tf.keras.layers.BatchNormalization(),\n",
    "        tf.keras.layers.MaxPooling2D(2,2),\n",
    "        \n",
    "        tf.keras.layers.Conv2D(128,(3,3), activation='relu', kernel_regularizer=tf.keras.regularizers.l2(0.01)),\n",
    "        tf.keras.layers.BatchNormalization(),\n",
    "        tf.keras.layers.MaxPooling2D(2,2),\n",
    "\n",
    "        tf.keras.layers.Flatten(),\n",
    "        \n",
    "        tf.keras.layers.Dense(256, activation='relu', kernel_regularizer=tf.keras.regularizers.l2(0.01)),\n",
    "        tf.keras.layers.BatchNormalization(),\n",
    "        tf.keras.layers.Dropout(0.2), \n",
    "        tf.keras.layers.Dense(NUM_CLASSES, activation='sigmoid')\n",
    "    ])\n",
    "    \n"
   ]
  },
  {
   "cell_type": "code",
   "execution_count": 22,
   "metadata": {},
   "outputs": [
    {
     "data": {
      "text/html": [
       "<pre style=\"white-space:pre;overflow-x:auto;line-height:normal;font-family:Menlo,'DejaVu Sans Mono',consolas,'Courier New',monospace\"><span style=\"font-weight: bold\">Model: \"sequential_2\"</span>\n",
       "</pre>\n"
      ],
      "text/plain": [
       "\u001b[1mModel: \"sequential_2\"\u001b[0m\n"
      ]
     },
     "metadata": {},
     "output_type": "display_data"
    },
    {
     "data": {
      "text/html": [
       "<pre style=\"white-space:pre;overflow-x:auto;line-height:normal;font-family:Menlo,'DejaVu Sans Mono',consolas,'Courier New',monospace\">┏━━━━━━━━━━━━━━━━━━━━━━━━━━━━━━━━━┳━━━━━━━━━━━━━━━━━━━━━━━━┳━━━━━━━━━━━━━━━┓\n",
       "┃<span style=\"font-weight: bold\"> Layer (type)                    </span>┃<span style=\"font-weight: bold\"> Output Shape           </span>┃<span style=\"font-weight: bold\">       Param # </span>┃\n",
       "┡━━━━━━━━━━━━━━━━━━━━━━━━━━━━━━━━━╇━━━━━━━━━━━━━━━━━━━━━━━━╇━━━━━━━━━━━━━━━┩\n",
       "│ rescaling_2 (<span style=\"color: #0087ff; text-decoration-color: #0087ff\">Rescaling</span>)         │ (<span style=\"color: #00d7ff; text-decoration-color: #00d7ff\">None</span>, <span style=\"color: #00af00; text-decoration-color: #00af00\">224</span>, <span style=\"color: #00af00; text-decoration-color: #00af00\">224</span>, <span style=\"color: #00af00; text-decoration-color: #00af00\">3</span>)    │             <span style=\"color: #00af00; text-decoration-color: #00af00\">0</span> │\n",
       "├─────────────────────────────────┼────────────────────────┼───────────────┤\n",
       "│ conv2d_8 (<span style=\"color: #0087ff; text-decoration-color: #0087ff\">Conv2D</span>)               │ (<span style=\"color: #00d7ff; text-decoration-color: #00d7ff\">None</span>, <span style=\"color: #00af00; text-decoration-color: #00af00\">222</span>, <span style=\"color: #00af00; text-decoration-color: #00af00\">222</span>, <span style=\"color: #00af00; text-decoration-color: #00af00\">16</span>)   │           <span style=\"color: #00af00; text-decoration-color: #00af00\">448</span> │\n",
       "├─────────────────────────────────┼────────────────────────┼───────────────┤\n",
       "│ batch_normalization             │ (<span style=\"color: #00d7ff; text-decoration-color: #00d7ff\">None</span>, <span style=\"color: #00af00; text-decoration-color: #00af00\">222</span>, <span style=\"color: #00af00; text-decoration-color: #00af00\">222</span>, <span style=\"color: #00af00; text-decoration-color: #00af00\">16</span>)   │            <span style=\"color: #00af00; text-decoration-color: #00af00\">64</span> │\n",
       "│ (<span style=\"color: #0087ff; text-decoration-color: #0087ff\">BatchNormalization</span>)            │                        │               │\n",
       "├─────────────────────────────────┼────────────────────────┼───────────────┤\n",
       "│ max_pooling2d_8 (<span style=\"color: #0087ff; text-decoration-color: #0087ff\">MaxPooling2D</span>)  │ (<span style=\"color: #00d7ff; text-decoration-color: #00d7ff\">None</span>, <span style=\"color: #00af00; text-decoration-color: #00af00\">111</span>, <span style=\"color: #00af00; text-decoration-color: #00af00\">111</span>, <span style=\"color: #00af00; text-decoration-color: #00af00\">16</span>)   │             <span style=\"color: #00af00; text-decoration-color: #00af00\">0</span> │\n",
       "├─────────────────────────────────┼────────────────────────┼───────────────┤\n",
       "│ conv2d_9 (<span style=\"color: #0087ff; text-decoration-color: #0087ff\">Conv2D</span>)               │ (<span style=\"color: #00d7ff; text-decoration-color: #00d7ff\">None</span>, <span style=\"color: #00af00; text-decoration-color: #00af00\">109</span>, <span style=\"color: #00af00; text-decoration-color: #00af00\">109</span>, <span style=\"color: #00af00; text-decoration-color: #00af00\">32</span>)   │         <span style=\"color: #00af00; text-decoration-color: #00af00\">4,640</span> │\n",
       "├─────────────────────────────────┼────────────────────────┼───────────────┤\n",
       "│ batch_normalization_1           │ (<span style=\"color: #00d7ff; text-decoration-color: #00d7ff\">None</span>, <span style=\"color: #00af00; text-decoration-color: #00af00\">109</span>, <span style=\"color: #00af00; text-decoration-color: #00af00\">109</span>, <span style=\"color: #00af00; text-decoration-color: #00af00\">32</span>)   │           <span style=\"color: #00af00; text-decoration-color: #00af00\">128</span> │\n",
       "│ (<span style=\"color: #0087ff; text-decoration-color: #0087ff\">BatchNormalization</span>)            │                        │               │\n",
       "├─────────────────────────────────┼────────────────────────┼───────────────┤\n",
       "│ max_pooling2d_9 (<span style=\"color: #0087ff; text-decoration-color: #0087ff\">MaxPooling2D</span>)  │ (<span style=\"color: #00d7ff; text-decoration-color: #00d7ff\">None</span>, <span style=\"color: #00af00; text-decoration-color: #00af00\">54</span>, <span style=\"color: #00af00; text-decoration-color: #00af00\">54</span>, <span style=\"color: #00af00; text-decoration-color: #00af00\">32</span>)     │             <span style=\"color: #00af00; text-decoration-color: #00af00\">0</span> │\n",
       "├─────────────────────────────────┼────────────────────────┼───────────────┤\n",
       "│ conv2d_10 (<span style=\"color: #0087ff; text-decoration-color: #0087ff\">Conv2D</span>)              │ (<span style=\"color: #00d7ff; text-decoration-color: #00d7ff\">None</span>, <span style=\"color: #00af00; text-decoration-color: #00af00\">52</span>, <span style=\"color: #00af00; text-decoration-color: #00af00\">52</span>, <span style=\"color: #00af00; text-decoration-color: #00af00\">64</span>)     │        <span style=\"color: #00af00; text-decoration-color: #00af00\">18,496</span> │\n",
       "├─────────────────────────────────┼────────────────────────┼───────────────┤\n",
       "│ batch_normalization_2           │ (<span style=\"color: #00d7ff; text-decoration-color: #00d7ff\">None</span>, <span style=\"color: #00af00; text-decoration-color: #00af00\">52</span>, <span style=\"color: #00af00; text-decoration-color: #00af00\">52</span>, <span style=\"color: #00af00; text-decoration-color: #00af00\">64</span>)     │           <span style=\"color: #00af00; text-decoration-color: #00af00\">256</span> │\n",
       "│ (<span style=\"color: #0087ff; text-decoration-color: #0087ff\">BatchNormalization</span>)            │                        │               │\n",
       "├─────────────────────────────────┼────────────────────────┼───────────────┤\n",
       "│ max_pooling2d_10 (<span style=\"color: #0087ff; text-decoration-color: #0087ff\">MaxPooling2D</span>) │ (<span style=\"color: #00d7ff; text-decoration-color: #00d7ff\">None</span>, <span style=\"color: #00af00; text-decoration-color: #00af00\">26</span>, <span style=\"color: #00af00; text-decoration-color: #00af00\">26</span>, <span style=\"color: #00af00; text-decoration-color: #00af00\">64</span>)     │             <span style=\"color: #00af00; text-decoration-color: #00af00\">0</span> │\n",
       "├─────────────────────────────────┼────────────────────────┼───────────────┤\n",
       "│ conv2d_11 (<span style=\"color: #0087ff; text-decoration-color: #0087ff\">Conv2D</span>)              │ (<span style=\"color: #00d7ff; text-decoration-color: #00d7ff\">None</span>, <span style=\"color: #00af00; text-decoration-color: #00af00\">24</span>, <span style=\"color: #00af00; text-decoration-color: #00af00\">24</span>, <span style=\"color: #00af00; text-decoration-color: #00af00\">128</span>)    │        <span style=\"color: #00af00; text-decoration-color: #00af00\">73,856</span> │\n",
       "├─────────────────────────────────┼────────────────────────┼───────────────┤\n",
       "│ batch_normalization_3           │ (<span style=\"color: #00d7ff; text-decoration-color: #00d7ff\">None</span>, <span style=\"color: #00af00; text-decoration-color: #00af00\">24</span>, <span style=\"color: #00af00; text-decoration-color: #00af00\">24</span>, <span style=\"color: #00af00; text-decoration-color: #00af00\">128</span>)    │           <span style=\"color: #00af00; text-decoration-color: #00af00\">512</span> │\n",
       "│ (<span style=\"color: #0087ff; text-decoration-color: #0087ff\">BatchNormalization</span>)            │                        │               │\n",
       "├─────────────────────────────────┼────────────────────────┼───────────────┤\n",
       "│ max_pooling2d_11 (<span style=\"color: #0087ff; text-decoration-color: #0087ff\">MaxPooling2D</span>) │ (<span style=\"color: #00d7ff; text-decoration-color: #00d7ff\">None</span>, <span style=\"color: #00af00; text-decoration-color: #00af00\">12</span>, <span style=\"color: #00af00; text-decoration-color: #00af00\">12</span>, <span style=\"color: #00af00; text-decoration-color: #00af00\">128</span>)    │             <span style=\"color: #00af00; text-decoration-color: #00af00\">0</span> │\n",
       "├─────────────────────────────────┼────────────────────────┼───────────────┤\n",
       "│ flatten_2 (<span style=\"color: #0087ff; text-decoration-color: #0087ff\">Flatten</span>)             │ (<span style=\"color: #00d7ff; text-decoration-color: #00d7ff\">None</span>, <span style=\"color: #00af00; text-decoration-color: #00af00\">18432</span>)          │             <span style=\"color: #00af00; text-decoration-color: #00af00\">0</span> │\n",
       "├─────────────────────────────────┼────────────────────────┼───────────────┤\n",
       "│ dense_4 (<span style=\"color: #0087ff; text-decoration-color: #0087ff\">Dense</span>)                 │ (<span style=\"color: #00d7ff; text-decoration-color: #00d7ff\">None</span>, <span style=\"color: #00af00; text-decoration-color: #00af00\">256</span>)            │     <span style=\"color: #00af00; text-decoration-color: #00af00\">4,718,848</span> │\n",
       "├─────────────────────────────────┼────────────────────────┼───────────────┤\n",
       "│ batch_normalization_4           │ (<span style=\"color: #00d7ff; text-decoration-color: #00d7ff\">None</span>, <span style=\"color: #00af00; text-decoration-color: #00af00\">256</span>)            │         <span style=\"color: #00af00; text-decoration-color: #00af00\">1,024</span> │\n",
       "│ (<span style=\"color: #0087ff; text-decoration-color: #0087ff\">BatchNormalization</span>)            │                        │               │\n",
       "├─────────────────────────────────┼────────────────────────┼───────────────┤\n",
       "│ dropout_2 (<span style=\"color: #0087ff; text-decoration-color: #0087ff\">Dropout</span>)             │ (<span style=\"color: #00d7ff; text-decoration-color: #00d7ff\">None</span>, <span style=\"color: #00af00; text-decoration-color: #00af00\">256</span>)            │             <span style=\"color: #00af00; text-decoration-color: #00af00\">0</span> │\n",
       "├─────────────────────────────────┼────────────────────────┼───────────────┤\n",
       "│ dense_5 (<span style=\"color: #0087ff; text-decoration-color: #0087ff\">Dense</span>)                 │ (<span style=\"color: #00d7ff; text-decoration-color: #00d7ff\">None</span>, <span style=\"color: #00af00; text-decoration-color: #00af00\">7</span>)              │         <span style=\"color: #00af00; text-decoration-color: #00af00\">1,799</span> │\n",
       "└─────────────────────────────────┴────────────────────────┴───────────────┘\n",
       "</pre>\n"
      ],
      "text/plain": [
       "┏━━━━━━━━━━━━━━━━━━━━━━━━━━━━━━━━━┳━━━━━━━━━━━━━━━━━━━━━━━━┳━━━━━━━━━━━━━━━┓\n",
       "┃\u001b[1m \u001b[0m\u001b[1mLayer (type)                   \u001b[0m\u001b[1m \u001b[0m┃\u001b[1m \u001b[0m\u001b[1mOutput Shape          \u001b[0m\u001b[1m \u001b[0m┃\u001b[1m \u001b[0m\u001b[1m      Param #\u001b[0m\u001b[1m \u001b[0m┃\n",
       "┡━━━━━━━━━━━━━━━━━━━━━━━━━━━━━━━━━╇━━━━━━━━━━━━━━━━━━━━━━━━╇━━━━━━━━━━━━━━━┩\n",
       "│ rescaling_2 (\u001b[38;5;33mRescaling\u001b[0m)         │ (\u001b[38;5;45mNone\u001b[0m, \u001b[38;5;34m224\u001b[0m, \u001b[38;5;34m224\u001b[0m, \u001b[38;5;34m3\u001b[0m)    │             \u001b[38;5;34m0\u001b[0m │\n",
       "├─────────────────────────────────┼────────────────────────┼───────────────┤\n",
       "│ conv2d_8 (\u001b[38;5;33mConv2D\u001b[0m)               │ (\u001b[38;5;45mNone\u001b[0m, \u001b[38;5;34m222\u001b[0m, \u001b[38;5;34m222\u001b[0m, \u001b[38;5;34m16\u001b[0m)   │           \u001b[38;5;34m448\u001b[0m │\n",
       "├─────────────────────────────────┼────────────────────────┼───────────────┤\n",
       "│ batch_normalization             │ (\u001b[38;5;45mNone\u001b[0m, \u001b[38;5;34m222\u001b[0m, \u001b[38;5;34m222\u001b[0m, \u001b[38;5;34m16\u001b[0m)   │            \u001b[38;5;34m64\u001b[0m │\n",
       "│ (\u001b[38;5;33mBatchNormalization\u001b[0m)            │                        │               │\n",
       "├─────────────────────────────────┼────────────────────────┼───────────────┤\n",
       "│ max_pooling2d_8 (\u001b[38;5;33mMaxPooling2D\u001b[0m)  │ (\u001b[38;5;45mNone\u001b[0m, \u001b[38;5;34m111\u001b[0m, \u001b[38;5;34m111\u001b[0m, \u001b[38;5;34m16\u001b[0m)   │             \u001b[38;5;34m0\u001b[0m │\n",
       "├─────────────────────────────────┼────────────────────────┼───────────────┤\n",
       "│ conv2d_9 (\u001b[38;5;33mConv2D\u001b[0m)               │ (\u001b[38;5;45mNone\u001b[0m, \u001b[38;5;34m109\u001b[0m, \u001b[38;5;34m109\u001b[0m, \u001b[38;5;34m32\u001b[0m)   │         \u001b[38;5;34m4,640\u001b[0m │\n",
       "├─────────────────────────────────┼────────────────────────┼───────────────┤\n",
       "│ batch_normalization_1           │ (\u001b[38;5;45mNone\u001b[0m, \u001b[38;5;34m109\u001b[0m, \u001b[38;5;34m109\u001b[0m, \u001b[38;5;34m32\u001b[0m)   │           \u001b[38;5;34m128\u001b[0m │\n",
       "│ (\u001b[38;5;33mBatchNormalization\u001b[0m)            │                        │               │\n",
       "├─────────────────────────────────┼────────────────────────┼───────────────┤\n",
       "│ max_pooling2d_9 (\u001b[38;5;33mMaxPooling2D\u001b[0m)  │ (\u001b[38;5;45mNone\u001b[0m, \u001b[38;5;34m54\u001b[0m, \u001b[38;5;34m54\u001b[0m, \u001b[38;5;34m32\u001b[0m)     │             \u001b[38;5;34m0\u001b[0m │\n",
       "├─────────────────────────────────┼────────────────────────┼───────────────┤\n",
       "│ conv2d_10 (\u001b[38;5;33mConv2D\u001b[0m)              │ (\u001b[38;5;45mNone\u001b[0m, \u001b[38;5;34m52\u001b[0m, \u001b[38;5;34m52\u001b[0m, \u001b[38;5;34m64\u001b[0m)     │        \u001b[38;5;34m18,496\u001b[0m │\n",
       "├─────────────────────────────────┼────────────────────────┼───────────────┤\n",
       "│ batch_normalization_2           │ (\u001b[38;5;45mNone\u001b[0m, \u001b[38;5;34m52\u001b[0m, \u001b[38;5;34m52\u001b[0m, \u001b[38;5;34m64\u001b[0m)     │           \u001b[38;5;34m256\u001b[0m │\n",
       "│ (\u001b[38;5;33mBatchNormalization\u001b[0m)            │                        │               │\n",
       "├─────────────────────────────────┼────────────────────────┼───────────────┤\n",
       "│ max_pooling2d_10 (\u001b[38;5;33mMaxPooling2D\u001b[0m) │ (\u001b[38;5;45mNone\u001b[0m, \u001b[38;5;34m26\u001b[0m, \u001b[38;5;34m26\u001b[0m, \u001b[38;5;34m64\u001b[0m)     │             \u001b[38;5;34m0\u001b[0m │\n",
       "├─────────────────────────────────┼────────────────────────┼───────────────┤\n",
       "│ conv2d_11 (\u001b[38;5;33mConv2D\u001b[0m)              │ (\u001b[38;5;45mNone\u001b[0m, \u001b[38;5;34m24\u001b[0m, \u001b[38;5;34m24\u001b[0m, \u001b[38;5;34m128\u001b[0m)    │        \u001b[38;5;34m73,856\u001b[0m │\n",
       "├─────────────────────────────────┼────────────────────────┼───────────────┤\n",
       "│ batch_normalization_3           │ (\u001b[38;5;45mNone\u001b[0m, \u001b[38;5;34m24\u001b[0m, \u001b[38;5;34m24\u001b[0m, \u001b[38;5;34m128\u001b[0m)    │           \u001b[38;5;34m512\u001b[0m │\n",
       "│ (\u001b[38;5;33mBatchNormalization\u001b[0m)            │                        │               │\n",
       "├─────────────────────────────────┼────────────────────────┼───────────────┤\n",
       "│ max_pooling2d_11 (\u001b[38;5;33mMaxPooling2D\u001b[0m) │ (\u001b[38;5;45mNone\u001b[0m, \u001b[38;5;34m12\u001b[0m, \u001b[38;5;34m12\u001b[0m, \u001b[38;5;34m128\u001b[0m)    │             \u001b[38;5;34m0\u001b[0m │\n",
       "├─────────────────────────────────┼────────────────────────┼───────────────┤\n",
       "│ flatten_2 (\u001b[38;5;33mFlatten\u001b[0m)             │ (\u001b[38;5;45mNone\u001b[0m, \u001b[38;5;34m18432\u001b[0m)          │             \u001b[38;5;34m0\u001b[0m │\n",
       "├─────────────────────────────────┼────────────────────────┼───────────────┤\n",
       "│ dense_4 (\u001b[38;5;33mDense\u001b[0m)                 │ (\u001b[38;5;45mNone\u001b[0m, \u001b[38;5;34m256\u001b[0m)            │     \u001b[38;5;34m4,718,848\u001b[0m │\n",
       "├─────────────────────────────────┼────────────────────────┼───────────────┤\n",
       "│ batch_normalization_4           │ (\u001b[38;5;45mNone\u001b[0m, \u001b[38;5;34m256\u001b[0m)            │         \u001b[38;5;34m1,024\u001b[0m │\n",
       "│ (\u001b[38;5;33mBatchNormalization\u001b[0m)            │                        │               │\n",
       "├─────────────────────────────────┼────────────────────────┼───────────────┤\n",
       "│ dropout_2 (\u001b[38;5;33mDropout\u001b[0m)             │ (\u001b[38;5;45mNone\u001b[0m, \u001b[38;5;34m256\u001b[0m)            │             \u001b[38;5;34m0\u001b[0m │\n",
       "├─────────────────────────────────┼────────────────────────┼───────────────┤\n",
       "│ dense_5 (\u001b[38;5;33mDense\u001b[0m)                 │ (\u001b[38;5;45mNone\u001b[0m, \u001b[38;5;34m7\u001b[0m)              │         \u001b[38;5;34m1,799\u001b[0m │\n",
       "└─────────────────────────────────┴────────────────────────┴───────────────┘\n"
      ]
     },
     "metadata": {},
     "output_type": "display_data"
    },
    {
     "data": {
      "text/html": [
       "<pre style=\"white-space:pre;overflow-x:auto;line-height:normal;font-family:Menlo,'DejaVu Sans Mono',consolas,'Courier New',monospace\"><span style=\"font-weight: bold\"> Total params: </span><span style=\"color: #00af00; text-decoration-color: #00af00\">4,820,071</span> (18.39 MB)\n",
       "</pre>\n"
      ],
      "text/plain": [
       "\u001b[1m Total params: \u001b[0m\u001b[38;5;34m4,820,071\u001b[0m (18.39 MB)\n"
      ]
     },
     "metadata": {},
     "output_type": "display_data"
    },
    {
     "data": {
      "text/html": [
       "<pre style=\"white-space:pre;overflow-x:auto;line-height:normal;font-family:Menlo,'DejaVu Sans Mono',consolas,'Courier New',monospace\"><span style=\"font-weight: bold\"> Trainable params: </span><span style=\"color: #00af00; text-decoration-color: #00af00\">4,819,079</span> (18.38 MB)\n",
       "</pre>\n"
      ],
      "text/plain": [
       "\u001b[1m Trainable params: \u001b[0m\u001b[38;5;34m4,819,079\u001b[0m (18.38 MB)\n"
      ]
     },
     "metadata": {},
     "output_type": "display_data"
    },
    {
     "data": {
      "text/html": [
       "<pre style=\"white-space:pre;overflow-x:auto;line-height:normal;font-family:Menlo,'DejaVu Sans Mono',consolas,'Courier New',monospace\"><span style=\"font-weight: bold\"> Non-trainable params: </span><span style=\"color: #00af00; text-decoration-color: #00af00\">992</span> (3.88 KB)\n",
       "</pre>\n"
      ],
      "text/plain": [
       "\u001b[1m Non-trainable params: \u001b[0m\u001b[38;5;34m992\u001b[0m (3.88 KB)\n"
      ]
     },
     "metadata": {},
     "output_type": "display_data"
    }
   ],
   "source": [
    "model = based_model()\n",
    "model.summary()"
   ]
  },
  {
   "cell_type": "code",
   "execution_count": 23,
   "metadata": {},
   "outputs": [],
   "source": [
    "\n",
    "# Compile the model with binary crossentropy loss\n",
    "model.compile(loss='binary_crossentropy',  # Change to binary_crossentropy\n",
    "              optimizer=tf.optimizers.Adam(),\n",
    "              metrics=[BinaryAccuracy()])\n"
   ]
  },
  {
   "cell_type": "code",
   "execution_count": 24,
   "metadata": {},
   "outputs": [],
   "source": [
    "from tensorflow.keras.callbacks import EarlyStopping\n",
    "\n",
    "early_stopping = EarlyStopping(\n",
    "    monitor='val_loss',  # Metric yang diamati\n",
    "    patience=5,          # Epoch tanpa perbaikan sebelum pelatihan dihentikan\n",
    "    restore_best_weights=True  # Kembalikan bobot terbaik setelah pelatihan berhenti\n",
    ")\n",
    "\n",
    "from tensorflow.keras.callbacks import ReduceLROnPlateau\n",
    "\n",
    "reduce_lr = ReduceLROnPlateau(\n",
    "    monitor='val_loss',  # Metric yang diamati\n",
    "    factor=0.1,          # Faktor pengurangan learning rate (misal, dikali 0.1)\n",
    "    patience=3,          # Epoch tanpa perbaikan sebelum learning rate dikurangi\n",
    "    min_lr=1e-6          # Batas minimum learning rate\n",
    ")\n",
    "\n",
    "\n",
    "# Callbacks\n",
    "class EarlyStoppingCallback(tf.keras.callbacks.Callback):\n",
    "    def on_epoch_end(self, epoch, logs=None):\n",
    "        train_accuracy = logs.get('binary_accuracy')\n",
    "        val_accuracy = logs.get('val_binary_accuracy')\n",
    "\n",
    "        if train_accuracy >= 0.95 and val_accuracy >= 0.85:\n",
    "            self.model.stop_training = True\n",
    "            print(\"\\nReached 95% train accuracy and 85% validation accuracy, so cancelling training!\")\n"
   ]
  },
  {
   "cell_type": "code",
   "execution_count": 25,
   "metadata": {},
   "outputs": [
    {
     "name": "stdout",
     "output_type": "stream",
     "text": [
      "Epoch 1/1000\n",
      "\u001b[1m65/65\u001b[0m \u001b[32m━━━━━━━━━━━━━━━━━━━━\u001b[0m\u001b[37m\u001b[0m \u001b[1m90s\u001b[0m 1s/step - binary_accuracy: 0.5977 - loss: 5.9866 - val_binary_accuracy: 0.6530 - val_loss: 1.9747 - learning_rate: 0.0010\n",
      "Epoch 2/1000\n",
      "\u001b[1m65/65\u001b[0m \u001b[32m━━━━━━━━━━━━━━━━━━━━\u001b[0m\u001b[37m\u001b[0m \u001b[1m78s\u001b[0m 1s/step - binary_accuracy: 0.7765 - loss: 1.6027 - val_binary_accuracy: 0.8571 - val_loss: 1.0450 - learning_rate: 0.0010\n",
      "Epoch 3/1000\n",
      "\u001b[1m65/65\u001b[0m \u001b[32m━━━━━━━━━━━━━━━━━━━━\u001b[0m\u001b[37m\u001b[0m \u001b[1m77s\u001b[0m 1s/step - binary_accuracy: 0.8495 - loss: 0.8672 - val_binary_accuracy: 0.8571 - val_loss: 0.7893 - learning_rate: 0.0010\n",
      "Epoch 4/1000\n",
      "\u001b[1m65/65\u001b[0m \u001b[32m━━━━━━━━━━━━━━━━━━━━\u001b[0m\u001b[37m\u001b[0m \u001b[1m66s\u001b[0m 1s/step - binary_accuracy: 0.8541 - loss: 0.6719 - val_binary_accuracy: 0.8571 - val_loss: 0.7092 - learning_rate: 0.0010\n",
      "Epoch 5/1000\n",
      "\u001b[1m65/65\u001b[0m \u001b[32m━━━━━━━━━━━━━━━━━━━━\u001b[0m\u001b[37m\u001b[0m \u001b[1m59s\u001b[0m 908ms/step - binary_accuracy: 0.8696 - loss: 0.5458 - val_binary_accuracy: 0.8571 - val_loss: 0.6672 - learning_rate: 0.0010\n",
      "Epoch 6/1000\n",
      "\u001b[1m65/65\u001b[0m \u001b[32m━━━━━━━━━━━━━━━━━━━━\u001b[0m\u001b[37m\u001b[0m \u001b[1m63s\u001b[0m 962ms/step - binary_accuracy: 0.8668 - loss: 0.5204 - val_binary_accuracy: 0.8571 - val_loss: 0.6811 - learning_rate: 0.0010\n",
      "Epoch 7/1000\n",
      "\u001b[1m65/65\u001b[0m \u001b[32m━━━━━━━━━━━━━━━━━━━━\u001b[0m\u001b[37m\u001b[0m \u001b[1m62s\u001b[0m 948ms/step - binary_accuracy: 0.8690 - loss: 0.5098 - val_binary_accuracy: 0.8571 - val_loss: 0.6479 - learning_rate: 0.0010\n",
      "Epoch 8/1000\n",
      "\u001b[1m65/65\u001b[0m \u001b[32m━━━━━━━━━━━━━━━━━━━━\u001b[0m\u001b[37m\u001b[0m \u001b[1m59s\u001b[0m 905ms/step - binary_accuracy: 0.8645 - loss: 0.5120 - val_binary_accuracy: 0.8571 - val_loss: 0.6096 - learning_rate: 0.0010\n",
      "Epoch 9/1000\n",
      "\u001b[1m65/65\u001b[0m \u001b[32m━━━━━━━━━━━━━━━━━━━━\u001b[0m\u001b[37m\u001b[0m \u001b[1m59s\u001b[0m 904ms/step - binary_accuracy: 0.8726 - loss: 0.4884 - val_binary_accuracy: 0.8571 - val_loss: 0.5932 - learning_rate: 0.0010\n",
      "Epoch 10/1000\n",
      "\u001b[1m65/65\u001b[0m \u001b[32m━━━━━━━━━━━━━━━━━━━━\u001b[0m\u001b[37m\u001b[0m \u001b[1m59s\u001b[0m 919ms/step - binary_accuracy: 0.8685 - loss: 0.4821 - val_binary_accuracy: 0.8571 - val_loss: 0.5741 - learning_rate: 0.0010\n",
      "Epoch 11/1000\n",
      "\u001b[1m65/65\u001b[0m \u001b[32m━━━━━━━━━━━━━━━━━━━━\u001b[0m\u001b[37m\u001b[0m \u001b[1m59s\u001b[0m 908ms/step - binary_accuracy: 0.8812 - loss: 0.4579 - val_binary_accuracy: 0.8642 - val_loss: 0.4985 - learning_rate: 0.0010\n",
      "Epoch 12/1000\n",
      "\u001b[1m65/65\u001b[0m \u001b[32m━━━━━━━━━━━━━━━━━━━━\u001b[0m\u001b[37m\u001b[0m \u001b[1m59s\u001b[0m 914ms/step - binary_accuracy: 0.8773 - loss: 0.4680 - val_binary_accuracy: 0.8651 - val_loss: 0.5897 - learning_rate: 0.0010\n",
      "Epoch 13/1000\n",
      "\u001b[1m65/65\u001b[0m \u001b[32m━━━━━━━━━━━━━━━━━━━━\u001b[0m\u001b[37m\u001b[0m \u001b[1m61s\u001b[0m 933ms/step - binary_accuracy: 0.8778 - loss: 0.4686 - val_binary_accuracy: 0.8542 - val_loss: 0.5452 - learning_rate: 0.0010\n",
      "Epoch 14/1000\n",
      "\u001b[1m65/65\u001b[0m \u001b[32m━━━━━━━━━━━━━━━━━━━━\u001b[0m\u001b[37m\u001b[0m \u001b[1m59s\u001b[0m 902ms/step - binary_accuracy: 0.8742 - loss: 0.4407 - val_binary_accuracy: 0.8571 - val_loss: 0.8714 - learning_rate: 0.0010\n",
      "Epoch 15/1000\n",
      "\u001b[1m65/65\u001b[0m \u001b[32m━━━━━━━━━━━━━━━━━━━━\u001b[0m\u001b[37m\u001b[0m \u001b[1m57s\u001b[0m 882ms/step - binary_accuracy: 0.8892 - loss: 0.4080 - val_binary_accuracy: 0.8586 - val_loss: 0.5050 - learning_rate: 1.0000e-04\n",
      "Epoch 16/1000\n",
      "\u001b[1m65/65\u001b[0m \u001b[32m━━━━━━━━━━━━━━━━━━━━\u001b[0m\u001b[37m\u001b[0m \u001b[1m57s\u001b[0m 882ms/step - binary_accuracy: 0.8953 - loss: 0.3183 - val_binary_accuracy: 0.8809 - val_loss: 0.3386 - learning_rate: 1.0000e-04\n",
      "Epoch 17/1000\n",
      "\u001b[1m65/65\u001b[0m \u001b[32m━━━━━━━━━━━━━━━━━━━━\u001b[0m\u001b[37m\u001b[0m \u001b[1m59s\u001b[0m 901ms/step - binary_accuracy: 0.8924 - loss: 0.3074 - val_binary_accuracy: 0.8724 - val_loss: 0.3392 - learning_rate: 1.0000e-04\n",
      "Epoch 18/1000\n",
      "\u001b[1m65/65\u001b[0m \u001b[32m━━━━━━━━━━━━━━━━━━━━\u001b[0m\u001b[37m\u001b[0m \u001b[1m61s\u001b[0m 941ms/step - binary_accuracy: 0.9010 - loss: 0.2872 - val_binary_accuracy: 0.8938 - val_loss: 0.3052 - learning_rate: 1.0000e-04\n",
      "Epoch 19/1000\n",
      "\u001b[1m65/65\u001b[0m \u001b[32m━━━━━━━━━━━━━━━━━━━━\u001b[0m\u001b[37m\u001b[0m \u001b[1m63s\u001b[0m 964ms/step - binary_accuracy: 0.9010 - loss: 0.2859 - val_binary_accuracy: 0.8733 - val_loss: 0.3708 - learning_rate: 1.0000e-04\n",
      "Epoch 20/1000\n",
      "\u001b[1m65/65\u001b[0m \u001b[32m━━━━━━━━━━━━━━━━━━━━\u001b[0m\u001b[37m\u001b[0m \u001b[1m61s\u001b[0m 940ms/step - binary_accuracy: 0.9001 - loss: 0.2955 - val_binary_accuracy: 0.8595 - val_loss: 0.3849 - learning_rate: 1.0000e-04\n",
      "Epoch 21/1000\n",
      "\u001b[1m65/65\u001b[0m \u001b[32m━━━━━━━━━━━━━━━━━━━━\u001b[0m\u001b[37m\u001b[0m \u001b[1m66s\u001b[0m 1s/step - binary_accuracy: 0.8955 - loss: 0.2940 - val_binary_accuracy: 0.8237 - val_loss: 0.7119 - learning_rate: 1.0000e-04\n",
      "Epoch 22/1000\n",
      "\u001b[1m65/65\u001b[0m \u001b[32m━━━━━━━━━━━━━━━━━━━━\u001b[0m\u001b[37m\u001b[0m \u001b[1m62s\u001b[0m 949ms/step - binary_accuracy: 0.9030 - loss: 0.2804 - val_binary_accuracy: 0.8604 - val_loss: 0.3922 - learning_rate: 1.0000e-05\n",
      "Epoch 23/1000\n",
      "\u001b[1m65/65\u001b[0m \u001b[32m━━━━━━━━━━━━━━━━━━━━\u001b[0m\u001b[37m\u001b[0m \u001b[1m66s\u001b[0m 1s/step - binary_accuracy: 0.9150 - loss: 0.2606 - val_binary_accuracy: 0.9009 - val_loss: 0.2687 - learning_rate: 1.0000e-05\n",
      "Epoch 24/1000\n",
      "\u001b[1m65/65\u001b[0m \u001b[32m━━━━━━━━━━━━━━━━━━━━\u001b[0m\u001b[37m\u001b[0m \u001b[1m66s\u001b[0m 1s/step - binary_accuracy: 0.9088 - loss: 0.2616 - val_binary_accuracy: 0.9055 - val_loss: 0.2666 - learning_rate: 1.0000e-05\n",
      "Epoch 25/1000\n",
      "\u001b[1m65/65\u001b[0m \u001b[32m━━━━━━━━━━━━━━━━━━━━\u001b[0m\u001b[37m\u001b[0m \u001b[1m59s\u001b[0m 908ms/step - binary_accuracy: 0.9161 - loss: 0.2545 - val_binary_accuracy: 0.9073 - val_loss: 0.2668 - learning_rate: 1.0000e-05\n",
      "Epoch 26/1000\n",
      "\u001b[1m65/65\u001b[0m \u001b[32m━━━━━━━━━━━━━━━━━━━━\u001b[0m\u001b[37m\u001b[0m \u001b[1m58s\u001b[0m 893ms/step - binary_accuracy: 0.9140 - loss: 0.2527 - val_binary_accuracy: 0.9141 - val_loss: 0.2435 - learning_rate: 1.0000e-05\n",
      "Epoch 27/1000\n",
      "\u001b[1m65/65\u001b[0m \u001b[32m━━━━━━━━━━━━━━━━━━━━\u001b[0m\u001b[37m\u001b[0m \u001b[1m59s\u001b[0m 900ms/step - binary_accuracy: 0.9173 - loss: 0.2471 - val_binary_accuracy: 0.9299 - val_loss: 0.2202 - learning_rate: 1.0000e-05\n",
      "Epoch 28/1000\n",
      "\u001b[1m65/65\u001b[0m \u001b[32m━━━━━━━━━━━━━━━━━━━━\u001b[0m\u001b[37m\u001b[0m \u001b[1m59s\u001b[0m 902ms/step - binary_accuracy: 0.9152 - loss: 0.2406 - val_binary_accuracy: 0.9334 - val_loss: 0.2119 - learning_rate: 1.0000e-05\n",
      "Epoch 29/1000\n",
      "\u001b[1m65/65\u001b[0m \u001b[32m━━━━━━━━━━━━━━━━━━━━\u001b[0m\u001b[37m\u001b[0m \u001b[1m58s\u001b[0m 893ms/step - binary_accuracy: 0.9126 - loss: 0.2462 - val_binary_accuracy: 0.9261 - val_loss: 0.2230 - learning_rate: 1.0000e-05\n",
      "Epoch 30/1000\n",
      "\u001b[1m65/65\u001b[0m \u001b[32m━━━━━━━━━━━━━━━━━━━━\u001b[0m\u001b[37m\u001b[0m \u001b[1m59s\u001b[0m 898ms/step - binary_accuracy: 0.9172 - loss: 0.2340 - val_binary_accuracy: 0.9328 - val_loss: 0.2114 - learning_rate: 1.0000e-05\n",
      "Epoch 31/1000\n",
      "\u001b[1m65/65\u001b[0m \u001b[32m━━━━━━━━━━━━━━━━━━━━\u001b[0m\u001b[37m\u001b[0m \u001b[1m59s\u001b[0m 901ms/step - binary_accuracy: 0.9208 - loss: 0.2344 - val_binary_accuracy: 0.9369 - val_loss: 0.2077 - learning_rate: 1.0000e-05\n",
      "Epoch 32/1000\n",
      "\u001b[1m65/65\u001b[0m \u001b[32m━━━━━━━━━━━━━━━━━━━━\u001b[0m\u001b[37m\u001b[0m \u001b[1m59s\u001b[0m 901ms/step - binary_accuracy: 0.9197 - loss: 0.2316 - val_binary_accuracy: 0.9352 - val_loss: 0.1980 - learning_rate: 1.0000e-05\n",
      "Epoch 33/1000\n",
      "\u001b[1m65/65\u001b[0m \u001b[32m━━━━━━━━━━━━━━━━━━━━\u001b[0m\u001b[37m\u001b[0m \u001b[1m58s\u001b[0m 892ms/step - binary_accuracy: 0.9185 - loss: 0.2341 - val_binary_accuracy: 0.9352 - val_loss: 0.2024 - learning_rate: 1.0000e-05\n",
      "Epoch 34/1000\n",
      "\u001b[1m65/65\u001b[0m \u001b[32m━━━━━━━━━━━━━━━━━━━━\u001b[0m\u001b[37m\u001b[0m \u001b[1m58s\u001b[0m 897ms/step - binary_accuracy: 0.9180 - loss: 0.2335 - val_binary_accuracy: 0.9363 - val_loss: 0.2066 - learning_rate: 1.0000e-05\n",
      "Epoch 35/1000\n",
      "\u001b[1m65/65\u001b[0m \u001b[32m━━━━━━━━━━━━━━━━━━━━\u001b[0m\u001b[37m\u001b[0m \u001b[1m59s\u001b[0m 909ms/step - binary_accuracy: 0.9212 - loss: 0.2285 - val_binary_accuracy: 0.9319 - val_loss: 0.2070 - learning_rate: 1.0000e-05\n",
      "Epoch 36/1000\n",
      "\u001b[1m65/65\u001b[0m \u001b[32m━━━━━━━━━━━━━━━━━━━━\u001b[0m\u001b[37m\u001b[0m \u001b[1m62s\u001b[0m 945ms/step - binary_accuracy: 0.9212 - loss: 0.2276 - val_binary_accuracy: 0.9399 - val_loss: 0.1961 - learning_rate: 1.0000e-06\n",
      "Epoch 37/1000\n",
      "\u001b[1m65/65\u001b[0m \u001b[32m━━━━━━━━━━━━━━━━━━━━\u001b[0m\u001b[37m\u001b[0m \u001b[1m62s\u001b[0m 951ms/step - binary_accuracy: 0.9226 - loss: 0.2264 - val_binary_accuracy: 0.9407 - val_loss: 0.1921 - learning_rate: 1.0000e-06\n",
      "Epoch 38/1000\n",
      "\u001b[1m65/65\u001b[0m \u001b[32m━━━━━━━━━━━━━━━━━━━━\u001b[0m\u001b[37m\u001b[0m \u001b[1m62s\u001b[0m 949ms/step - binary_accuracy: 0.9216 - loss: 0.2256 - val_binary_accuracy: 0.9416 - val_loss: 0.1900 - learning_rate: 1.0000e-06\n",
      "Epoch 39/1000\n",
      "\u001b[1m65/65\u001b[0m \u001b[32m━━━━━━━━━━━━━━━━━━━━\u001b[0m\u001b[37m\u001b[0m \u001b[1m59s\u001b[0m 907ms/step - binary_accuracy: 0.9272 - loss: 0.2152 - val_binary_accuracy: 0.9425 - val_loss: 0.1883 - learning_rate: 1.0000e-06\n",
      "Epoch 40/1000\n",
      "\u001b[1m65/65\u001b[0m \u001b[32m━━━━━━━━━━━━━━━━━━━━\u001b[0m\u001b[37m\u001b[0m \u001b[1m57s\u001b[0m 882ms/step - binary_accuracy: 0.9227 - loss: 0.2236 - val_binary_accuracy: 0.9428 - val_loss: 0.1880 - learning_rate: 1.0000e-06\n",
      "Epoch 41/1000\n",
      "\u001b[1m65/65\u001b[0m \u001b[32m━━━━━━━━━━━━━━━━━━━━\u001b[0m\u001b[37m\u001b[0m \u001b[1m59s\u001b[0m 906ms/step - binary_accuracy: 0.9249 - loss: 0.2240 - val_binary_accuracy: 0.9416 - val_loss: 0.1877 - learning_rate: 1.0000e-06\n",
      "Epoch 42/1000\n",
      "\u001b[1m65/65\u001b[0m \u001b[32m━━━━━━━━━━━━━━━━━━━━\u001b[0m\u001b[37m\u001b[0m \u001b[1m60s\u001b[0m 919ms/step - binary_accuracy: 0.9226 - loss: 0.2210 - val_binary_accuracy: 0.9440 - val_loss: 0.1867 - learning_rate: 1.0000e-06\n",
      "Epoch 43/1000\n",
      "\u001b[1m65/65\u001b[0m \u001b[32m━━━━━━━━━━━━━━━━━━━━\u001b[0m\u001b[37m\u001b[0m \u001b[1m65s\u001b[0m 1s/step - binary_accuracy: 0.9165 - loss: 0.2252 - val_binary_accuracy: 0.9437 - val_loss: 0.1869 - learning_rate: 1.0000e-06\n",
      "Epoch 44/1000\n",
      "\u001b[1m65/65\u001b[0m \u001b[32m━━━━━━━━━━━━━━━━━━━━\u001b[0m\u001b[37m\u001b[0m \u001b[1m62s\u001b[0m 956ms/step - binary_accuracy: 0.9241 - loss: 0.2183 - val_binary_accuracy: 0.9437 - val_loss: 0.1866 - learning_rate: 1.0000e-06\n",
      "Epoch 45/1000\n",
      "\u001b[1m65/65\u001b[0m \u001b[32m━━━━━━━━━━━━━━━━━━━━\u001b[0m\u001b[37m\u001b[0m \u001b[1m69s\u001b[0m 1s/step - binary_accuracy: 0.9223 - loss: 0.2237 - val_binary_accuracy: 0.9428 - val_loss: 0.1867 - learning_rate: 1.0000e-06\n",
      "Epoch 46/1000\n",
      "\u001b[1m65/65\u001b[0m \u001b[32m━━━━━━━━━━━━━━━━━━━━\u001b[0m\u001b[37m\u001b[0m \u001b[1m67s\u001b[0m 1s/step - binary_accuracy: 0.9212 - loss: 0.2234 - val_binary_accuracy: 0.9437 - val_loss: 0.1858 - learning_rate: 1.0000e-06\n",
      "Epoch 47/1000\n",
      "\u001b[1m65/65\u001b[0m \u001b[32m━━━━━━━━━━━━━━━━━━━━\u001b[0m\u001b[37m\u001b[0m \u001b[1m68s\u001b[0m 1s/step - binary_accuracy: 0.9268 - loss: 0.2181 - val_binary_accuracy: 0.9431 - val_loss: 0.1857 - learning_rate: 1.0000e-06\n",
      "Epoch 48/1000\n",
      "\u001b[1m65/65\u001b[0m \u001b[32m━━━━━━━━━━━━━━━━━━━━\u001b[0m\u001b[37m\u001b[0m \u001b[1m68s\u001b[0m 1s/step - binary_accuracy: 0.9225 - loss: 0.2205 - val_binary_accuracy: 0.9437 - val_loss: 0.1855 - learning_rate: 1.0000e-06\n",
      "Epoch 49/1000\n",
      "\u001b[1m65/65\u001b[0m \u001b[32m━━━━━━━━━━━━━━━━━━━━\u001b[0m\u001b[37m\u001b[0m \u001b[1m66s\u001b[0m 1s/step - binary_accuracy: 0.9248 - loss: 0.2181 - val_binary_accuracy: 0.9428 - val_loss: 0.1860 - learning_rate: 1.0000e-06\n",
      "Epoch 50/1000\n",
      "\u001b[1m65/65\u001b[0m \u001b[32m━━━━━━━━━━━━━━━━━━━━\u001b[0m\u001b[37m\u001b[0m \u001b[1m65s\u001b[0m 1s/step - binary_accuracy: 0.9259 - loss: 0.2181 - val_binary_accuracy: 0.9428 - val_loss: 0.1854 - learning_rate: 1.0000e-06\n",
      "Epoch 51/1000\n",
      "\u001b[1m65/65\u001b[0m \u001b[32m━━━━━━━━━━━━━━━━━━━━\u001b[0m\u001b[37m\u001b[0m \u001b[1m65s\u001b[0m 1s/step - binary_accuracy: 0.9294 - loss: 0.2159 - val_binary_accuracy: 0.9440 - val_loss: 0.1859 - learning_rate: 1.0000e-06\n",
      "Epoch 52/1000\n",
      "\u001b[1m65/65\u001b[0m \u001b[32m━━━━━━━━━━━━━━━━━━━━\u001b[0m\u001b[37m\u001b[0m \u001b[1m65s\u001b[0m 1s/step - binary_accuracy: 0.9192 - loss: 0.2221 - val_binary_accuracy: 0.9431 - val_loss: 0.1870 - learning_rate: 1.0000e-06\n",
      "Epoch 53/1000\n",
      "\u001b[1m65/65\u001b[0m \u001b[32m━━━━━━━━━━━━━━━━━━━━\u001b[0m\u001b[37m\u001b[0m \u001b[1m65s\u001b[0m 1s/step - binary_accuracy: 0.9240 - loss: 0.2181 - val_binary_accuracy: 0.9443 - val_loss: 0.1845 - learning_rate: 1.0000e-06\n",
      "Epoch 54/1000\n",
      "\u001b[1m65/65\u001b[0m \u001b[32m━━━━━━━━━━━━━━━━━━━━\u001b[0m\u001b[37m\u001b[0m \u001b[1m66s\u001b[0m 1s/step - binary_accuracy: 0.9273 - loss: 0.2135 - val_binary_accuracy: 0.9449 - val_loss: 0.1842 - learning_rate: 1.0000e-06\n",
      "Epoch 55/1000\n",
      "\u001b[1m65/65\u001b[0m \u001b[32m━━━━━━━━━━━━━━━━━━━━\u001b[0m\u001b[37m\u001b[0m \u001b[1m65s\u001b[0m 998ms/step - binary_accuracy: 0.9262 - loss: 0.2185 - val_binary_accuracy: 0.9446 - val_loss: 0.1839 - learning_rate: 1.0000e-06\n",
      "Epoch 56/1000\n",
      "\u001b[1m65/65\u001b[0m \u001b[32m━━━━━━━━━━━━━━━━━━━━\u001b[0m\u001b[37m\u001b[0m \u001b[1m65s\u001b[0m 997ms/step - binary_accuracy: 0.9217 - loss: 0.2254 - val_binary_accuracy: 0.9440 - val_loss: 0.1845 - learning_rate: 1.0000e-06\n",
      "Epoch 57/1000\n",
      "\u001b[1m65/65\u001b[0m \u001b[32m━━━━━━━━━━━━━━━━━━━━\u001b[0m\u001b[37m\u001b[0m \u001b[1m67s\u001b[0m 1s/step - binary_accuracy: 0.9214 - loss: 0.2223 - val_binary_accuracy: 0.9437 - val_loss: 0.1844 - learning_rate: 1.0000e-06\n",
      "Epoch 58/1000\n",
      "\u001b[1m65/65\u001b[0m \u001b[32m━━━━━━━━━━━━━━━━━━━━\u001b[0m\u001b[37m\u001b[0m \u001b[1m65s\u001b[0m 1s/step - binary_accuracy: 0.9231 - loss: 0.2176 - val_binary_accuracy: 0.9443 - val_loss: 0.1849 - learning_rate: 1.0000e-06\n",
      "Epoch 59/1000\n",
      "\u001b[1m65/65\u001b[0m \u001b[32m━━━━━━━━━━━━━━━━━━━━\u001b[0m\u001b[37m\u001b[0m \u001b[1m66s\u001b[0m 1s/step - binary_accuracy: 0.9300 - loss: 0.2115 - val_binary_accuracy: 0.9440 - val_loss: 0.1837 - learning_rate: 1.0000e-06\n",
      "Epoch 60/1000\n",
      "\u001b[1m65/65\u001b[0m \u001b[32m━━━━━━━━━━━━━━━━━━━━\u001b[0m\u001b[37m\u001b[0m \u001b[1m66s\u001b[0m 1s/step - binary_accuracy: 0.9294 - loss: 0.2146 - val_binary_accuracy: 0.9449 - val_loss: 0.1837 - learning_rate: 1.0000e-06\n",
      "Epoch 61/1000\n",
      "\u001b[1m65/65\u001b[0m \u001b[32m━━━━━━━━━━━━━━━━━━━━\u001b[0m\u001b[37m\u001b[0m \u001b[1m66s\u001b[0m 1s/step - binary_accuracy: 0.9276 - loss: 0.2173 - val_binary_accuracy: 0.9440 - val_loss: 0.1832 - learning_rate: 1.0000e-06\n",
      "Epoch 62/1000\n",
      "\u001b[1m65/65\u001b[0m \u001b[32m━━━━━━━━━━━━━━━━━━━━\u001b[0m\u001b[37m\u001b[0m \u001b[1m66s\u001b[0m 1s/step - binary_accuracy: 0.9241 - loss: 0.2178 - val_binary_accuracy: 0.9454 - val_loss: 0.1833 - learning_rate: 1.0000e-06\n",
      "Epoch 63/1000\n",
      "\u001b[1m65/65\u001b[0m \u001b[32m━━━━━━━━━━━━━━━━━━━━\u001b[0m\u001b[37m\u001b[0m \u001b[1m65s\u001b[0m 1s/step - binary_accuracy: 0.9255 - loss: 0.2165 - val_binary_accuracy: 0.9451 - val_loss: 0.1833 - learning_rate: 1.0000e-06\n",
      "Epoch 64/1000\n",
      "\u001b[1m65/65\u001b[0m \u001b[32m━━━━━━━━━━━━━━━━━━━━\u001b[0m\u001b[37m\u001b[0m \u001b[1m66s\u001b[0m 1s/step - binary_accuracy: 0.9241 - loss: 0.2152 - val_binary_accuracy: 0.9463 - val_loss: 0.1834 - learning_rate: 1.0000e-06\n",
      "Epoch 65/1000\n",
      "\u001b[1m65/65\u001b[0m \u001b[32m━━━━━━━━━━━━━━━━━━━━\u001b[0m\u001b[37m\u001b[0m \u001b[1m67s\u001b[0m 1s/step - binary_accuracy: 0.9237 - loss: 0.2177 - val_binary_accuracy: 0.9451 - val_loss: 0.1827 - learning_rate: 1.0000e-06\n",
      "Epoch 66/1000\n",
      "\u001b[1m65/65\u001b[0m \u001b[32m━━━━━━━━━━━━━━━━━━━━\u001b[0m\u001b[37m\u001b[0m \u001b[1m63s\u001b[0m 965ms/step - binary_accuracy: 0.9278 - loss: 0.2085 - val_binary_accuracy: 0.9446 - val_loss: 0.1824 - learning_rate: 1.0000e-06\n",
      "Epoch 67/1000\n",
      "\u001b[1m65/65\u001b[0m \u001b[32m━━━━━━━━━━━━━━━━━━━━\u001b[0m\u001b[37m\u001b[0m \u001b[1m63s\u001b[0m 974ms/step - binary_accuracy: 0.9203 - loss: 0.2259 - val_binary_accuracy: 0.9446 - val_loss: 0.1814 - learning_rate: 1.0000e-06\n",
      "Epoch 68/1000\n",
      "\u001b[1m65/65\u001b[0m \u001b[32m━━━━━━━━━━━━━━━━━━━━\u001b[0m\u001b[37m\u001b[0m \u001b[1m62s\u001b[0m 958ms/step - binary_accuracy: 0.9251 - loss: 0.2143 - val_binary_accuracy: 0.9460 - val_loss: 0.1816 - learning_rate: 1.0000e-06\n",
      "Epoch 69/1000\n",
      "\u001b[1m65/65\u001b[0m \u001b[32m━━━━━━━━━━━━━━━━━━━━\u001b[0m\u001b[37m\u001b[0m \u001b[1m68s\u001b[0m 1s/step - binary_accuracy: 0.9276 - loss: 0.2157 - val_binary_accuracy: 0.9457 - val_loss: 0.1818 - learning_rate: 1.0000e-06\n",
      "Epoch 70/1000\n",
      "\u001b[1m65/65\u001b[0m \u001b[32m━━━━━━━━━━━━━━━━━━━━\u001b[0m\u001b[37m\u001b[0m \u001b[1m69s\u001b[0m 1s/step - binary_accuracy: 0.9269 - loss: 0.2143 - val_binary_accuracy: 0.9451 - val_loss: 0.1812 - learning_rate: 1.0000e-06\n",
      "Epoch 71/1000\n",
      "\u001b[1m65/65\u001b[0m \u001b[32m━━━━━━━━━━━━━━━━━━━━\u001b[0m\u001b[37m\u001b[0m \u001b[1m91s\u001b[0m 1s/step - binary_accuracy: 0.9236 - loss: 0.2137 - val_binary_accuracy: 0.9454 - val_loss: 0.1804 - learning_rate: 1.0000e-06\n",
      "Epoch 72/1000\n",
      "\u001b[1m65/65\u001b[0m \u001b[32m━━━━━━━━━━━━━━━━━━━━\u001b[0m\u001b[37m\u001b[0m \u001b[1m66s\u001b[0m 1s/step - binary_accuracy: 0.9279 - loss: 0.2081 - val_binary_accuracy: 0.9449 - val_loss: 0.1800 - learning_rate: 1.0000e-06\n",
      "Epoch 73/1000\n",
      "\u001b[1m65/65\u001b[0m \u001b[32m━━━━━━━━━━━━━━━━━━━━\u001b[0m\u001b[37m\u001b[0m \u001b[1m69s\u001b[0m 1s/step - binary_accuracy: 0.9324 - loss: 0.2073 - val_binary_accuracy: 0.9457 - val_loss: 0.1807 - learning_rate: 1.0000e-06\n",
      "Epoch 74/1000\n",
      "\u001b[1m65/65\u001b[0m \u001b[32m━━━━━━━━━━━━━━━━━━━━\u001b[0m\u001b[37m\u001b[0m \u001b[1m62s\u001b[0m 947ms/step - binary_accuracy: 0.9238 - loss: 0.2166 - val_binary_accuracy: 0.9454 - val_loss: 0.1824 - learning_rate: 1.0000e-06\n",
      "Epoch 75/1000\n",
      "\u001b[1m65/65\u001b[0m \u001b[32m━━━━━━━━━━━━━━━━━━━━\u001b[0m\u001b[37m\u001b[0m \u001b[1m64s\u001b[0m 981ms/step - binary_accuracy: 0.9225 - loss: 0.2178 - val_binary_accuracy: 0.9443 - val_loss: 0.1812 - learning_rate: 1.0000e-06\n",
      "Epoch 76/1000\n",
      "\u001b[1m65/65\u001b[0m \u001b[32m━━━━━━━━━━━━━━━━━━━━\u001b[0m\u001b[37m\u001b[0m \u001b[1m60s\u001b[0m 926ms/step - binary_accuracy: 0.9249 - loss: 0.2158 - val_binary_accuracy: 0.9451 - val_loss: 0.1796 - learning_rate: 1.0000e-06\n",
      "Epoch 77/1000\n",
      "\u001b[1m65/65\u001b[0m \u001b[32m━━━━━━━━━━━━━━━━━━━━\u001b[0m\u001b[37m\u001b[0m \u001b[1m59s\u001b[0m 904ms/step - binary_accuracy: 0.9306 - loss: 0.2088 - val_binary_accuracy: 0.9449 - val_loss: 0.1799 - learning_rate: 1.0000e-06\n",
      "Epoch 78/1000\n",
      "\u001b[1m65/65\u001b[0m \u001b[32m━━━━━━━━━━━━━━━━━━━━\u001b[0m\u001b[37m\u001b[0m \u001b[1m59s\u001b[0m 904ms/step - binary_accuracy: 0.9261 - loss: 0.2164 - val_binary_accuracy: 0.9466 - val_loss: 0.1808 - learning_rate: 1.0000e-06\n",
      "Epoch 79/1000\n",
      "\u001b[1m65/65\u001b[0m \u001b[32m━━━━━━━━━━━━━━━━━━━━\u001b[0m\u001b[37m\u001b[0m \u001b[1m59s\u001b[0m 904ms/step - binary_accuracy: 0.9256 - loss: 0.2151 - val_binary_accuracy: 0.9469 - val_loss: 0.1805 - learning_rate: 1.0000e-06\n",
      "Epoch 80/1000\n",
      "\u001b[1m65/65\u001b[0m \u001b[32m━━━━━━━━━━━━━━━━━━━━\u001b[0m\u001b[37m\u001b[0m \u001b[1m59s\u001b[0m 912ms/step - binary_accuracy: 0.9257 - loss: 0.2152 - val_binary_accuracy: 0.9457 - val_loss: 0.1801 - learning_rate: 1.0000e-06\n",
      "Epoch 81/1000\n",
      "\u001b[1m65/65\u001b[0m \u001b[32m━━━━━━━━━━━━━━━━━━━━\u001b[0m\u001b[37m\u001b[0m \u001b[1m62s\u001b[0m 957ms/step - binary_accuracy: 0.9223 - loss: 0.2225 - val_binary_accuracy: 0.9454 - val_loss: 0.1800 - learning_rate: 1.0000e-06\n"
     ]
    }
   ],
   "source": [
    "epoch = 1000\n",
    "history = model.fit(train_generator, \n",
    "                    batch_size=BATCH_SIZE, \n",
    "                    epochs=epoch, \n",
    "                    validation_data=validation_generator, \n",
    "                    shuffle=True,\n",
    "                    callbacks=[EarlyStoppingCallback(), early_stopping, reduce_lr])"
   ]
  },
  {
   "cell_type": "code",
   "execution_count": 26,
   "metadata": {},
   "outputs": [
    {
     "name": "stdout",
     "output_type": "stream",
     "text": [
      "\u001b[1m16/16\u001b[0m \u001b[32m━━━━━━━━━━━━━━━━━━━━\u001b[0m\u001b[37m\u001b[0m \u001b[1m4s\u001b[0m 271ms/step - binary_accuracy: 0.9481 - loss: 0.1722\n",
      "Test Accuracy 0.945145308971405\n"
     ]
    }
   ],
   "source": [
    "ds = validation_generator\n",
    "print(\"Test Accuracy\", model.evaluate(ds)[1])"
   ]
  },
  {
   "cell_type": "code",
   "execution_count": 27,
   "metadata": {},
   "outputs": [
    {
     "name": "stdout",
     "output_type": "stream",
     "text": [
      "\u001b[1m16/16\u001b[0m \u001b[32m━━━━━━━━━━━━━━━━━━━━\u001b[0m\u001b[37m\u001b[0m \u001b[1m5s\u001b[0m 309ms/step - binary_accuracy: 0.9501 - loss: 0.1707\n",
      "Loss Accuracy 0.1796325296163559\n"
     ]
    }
   ],
   "source": [
    "print(\"Loss Accuracy\", model.evaluate(ds)[0])"
   ]
  },
  {
   "cell_type": "code",
   "execution_count": 28,
   "metadata": {},
   "outputs": [],
   "source": [
    "train_loss=history.history['loss']\n",
    "val_loss=history.history['val_loss']\n",
    "\n",
    "train_acc= history.history['binary_accuracy']\n",
    "val_acc= history.history['val_binary_accuracy']"
   ]
  },
  {
   "cell_type": "code",
   "execution_count": 29,
   "metadata": {},
   "outputs": [
    {
     "data": {
      "image/png": "[encoded data removed]",
      "text/plain": [
       "<Figure size 640x480 with 1 Axes>"
      ]
     },
     "metadata": {},
     "output_type": "display_data"
    },
    {
     "data": {
      "image/png": "[encoded data removed]",
      "text/plain": [
       "<Figure size 640x480 with 1 Axes>"
      ]
     },
     "metadata": {},
     "output_type": "display_data"
    }
   ],
   "source": [
    "plt.plot(history.history['binary_accuracy'])\n",
    "plt.plot(history.history['val_binary_accuracy'])\n",
    "plt.title(\"model accuracy\")\n",
    "plt.ylabel('binary_accuracy')\n",
    "plt.xlabel('epoch')\n",
    "plt.legend([\"Train\", 'Validation'], loc='upper left')\n",
    "plt.show()\n",
    "\n",
    "\n",
    "plt.plot(history.history['loss'])\n",
    "plt.plot(history.history['val_loss'])\n",
    "plt.title(\"model loss\")\n",
    "plt.ylabel(\"loss\")\n",
    "plt.xlabel('epoch')\n",
    "plt.legend([\"Train\", 'Validation'], loc='upper left')\n",
    "plt.show()"
   ]
  },
  {
   "cell_type": "markdown",
   "metadata": {},
   "source": [
    "Predict "
   ]
  },
  {
   "cell_type": "code",
   "execution_count": 30,
   "metadata": {},
   "outputs": [
    {
     "name": "stdout",
     "output_type": "stream",
     "text": [
      "\u001b[1m1/1\u001b[0m \u001b[32m━━━━━━━━━━━━━━━━━━━━\u001b[0m\u001b[37m\u001b[0m \u001b[1m1s\u001b[0m 651ms/step\n"
     ]
    }
   ],
   "source": [
    "from tensorflow.keras.preprocessing import image\n",
    "\n",
    "image_path='Dataset2/train/Jeruk Nipis/6a3809c9-790b-4df2-9dc1-ad133d93dc92.jpg'\n",
    "img= image.load_img(image_path, target_size=(224,224))\n",
    "\n",
    "#Convert image to numpy array\n",
    "x = image.img_to_array(img)\n",
    "x = np.expand_dims(x, axis=0)\n",
    "x = x/255.0 \n",
    "\n",
    "#Predict\n",
    "pred = model.predict(x)\n",
    "labels = ['Belimbing Sayur', 'Bunga Lawang', 'Jahe', 'Jeruk Nipis', 'Kunyit', 'Lengkuas', 'Mengkudu']\n",
    "for i, p in enumerate(pred[0]):\n",
    "    if p>0.5:\n",
    "        print(labels[i], p)"
   ]
  },
  {
   "cell_type": "markdown",
   "metadata": {},
   "source": [
    "## Memprediksi 2 Bahan"
   ]
  },
  {
   "cell_type": "code",
   "execution_count": 31,
   "metadata": {},
   "outputs": [
    {
     "name": "stdout",
     "output_type": "stream",
     "text": [
      "\u001b[1m1/1\u001b[0m \u001b[32m━━━━━━━━━━━━━━━━━━━━\u001b[0m\u001b[37m\u001b[0m \u001b[1m0s\u001b[0m 42ms/step\n",
      "Jeruk Nipis: 0.46\n",
      "Mengkudu: 0.19\n"
     ]
    }
   ],
   "source": [
    "import numpy as np\n",
    "from tensorflow.keras.preprocessing import image\n",
    "\n",
    "# Load image\n",
    "image_path = 'jahe dan jeruk nipis.jpg'\n",
    "img = image.load_img(image_path, target_size=(224, 224))\n",
    "\n",
    "# Convert image to numpy array\n",
    "x = image.img_to_array(img)\n",
    "x = np.expand_dims(x, axis=0)\n",
    "x = x / 255.0 \n",
    "\n",
    "# Predict\n",
    "pred = model.predict(x)\n",
    "labels = ['Belimbing Sayur', 'Bunga Lawang', 'Jahe', 'Jeruk Nipis', 'Kunyit', 'Lengkuas', 'Mengkudu']\n",
    "\n",
    "# Get indices of top 2 predictions\n",
    "top_2_indices = np.argsort(pred[0])[-2:]  # Ambil dua indeks tertinggi (urutkan dari kecil ke besar)\n",
    "top_2_indices = top_2_indices[::-1]  # Balik urutan menjadi besar ke kecil\n",
    "\n",
    "# Print top 2 predictions with their probabilities\n",
    "for i in top_2_indices:\n",
    "    print(f\"{labels[i]}: {pred[0][i]:.2f}\")\n"
   ]
  },
  {
   "cell_type": "code",
   "execution_count": 32,
   "metadata": {},
   "outputs": [
    {
     "name": "stdout",
     "output_type": "stream",
     "text": [
      "\u001b[1m1/1\u001b[0m \u001b[32m━━━━━━━━━━━━━━━━━━━━\u001b[0m\u001b[37m\u001b[0m \u001b[1m0s\u001b[0m 84ms/step\n",
      "Jahe: 0.37\n",
      "Kunyit: 0.18\n"
     ]
    }
   ],
   "source": [
    "import numpy as np\n",
    "from tensorflow.keras.preprocessing import image\n",
    "\n",
    "# Load image\n",
    "image_path = 'jahe dan jeruk nipis2.jpg'\n",
    "img = image.load_img(image_path, target_size=(224, 224))\n",
    "\n",
    "# Convert image to numpy array\n",
    "x = image.img_to_array(img)\n",
    "x = np.expand_dims(x, axis=0)\n",
    "x = x / 255.0 \n",
    "\n",
    "# Predict\n",
    "pred = model.predict(x)\n",
    "labels = ['Belimbing Sayur', 'Bunga Lawang', 'Jahe', 'Jeruk Nipis', 'Kunyit', 'Lengkuas', 'Mengkudu']\n",
    "\n",
    "# Get indices of top 2 predictions\n",
    "top_2_indices = np.argsort(pred[0])[-2:]  # Ambil dua indeks tertinggi (urutkan dari kecil ke besar)\n",
    "top_2_indices = top_2_indices[::-1]  # Balik urutan menjadi besar ke kecil\n",
    "\n",
    "# Print top 2 predictions with their probabilities\n",
    "for i in top_2_indices:\n",
    "    print(f\"{labels[i]}: {pred[0][i]:.2f}\")\n"
   ]
  },
  {
   "cell_type": "markdown",
   "metadata": {},
   "source": [
    "## Memprediksi 3 Bahan"
   ]
  },
  {
   "cell_type": "code",
   "execution_count": 33,
   "metadata": {},
   "outputs": [
    {
     "name": "stdout",
     "output_type": "stream",
     "text": [
      "\u001b[1m1/1\u001b[0m \u001b[32m━━━━━━━━━━━━━━━━━━━━\u001b[0m\u001b[37m\u001b[0m \u001b[1m0s\u001b[0m 40ms/step\n",
      "Bunga Lawang: 0.84\n",
      "Lengkuas: 0.17\n",
      "Mengkudu: 0.04\n"
     ]
    }
   ],
   "source": [
    "import numpy as np\n",
    "from tensorflow.keras.preprocessing import image\n",
    "\n",
    "# Load image\n",
    "image_path = 'jeruk nipis dan bunga lawang.jpg'\n",
    "img = image.load_img(image_path, target_size=(224, 224))\n",
    "\n",
    "# Convert image to numpy array\n",
    "x = image.img_to_array(img)\n",
    "x = np.expand_dims(x, axis=0)\n",
    "x = x / 255.0 \n",
    "\n",
    "# Predict\n",
    "pred = model.predict(x)\n",
    "labels = ['Belimbing Sayur', 'Bunga Lawang', 'Jahe', 'Jeruk Nipis', 'Kunyit', 'Lengkuas', 'Mengkudu']\n",
    "\n",
    "# Get indices of top 2 predictions\n",
    "top_2_indices = np.argsort(pred[0])[-3:]  # Ambil dua indeks tertinggi (urutkan dari kecil ke besar)\n",
    "top_2_indices = top_2_indices[::-1]  # Balik urutan menjadi besar ke kecil\n",
    "\n",
    "# Print top 2 predictions with their probabilities\n",
    "for i in top_2_indices:\n",
    "    print(f\"{labels[i]}: {pred[0][i]:.2f}\")\n"
   ]
  },
  {
   "cell_type": "code",
   "execution_count": 34,
   "metadata": {},
   "outputs": [
    {
     "name": "stdout",
     "output_type": "stream",
     "text": [
      "\u001b[1m1/1\u001b[0m \u001b[32m━━━━━━━━━━━━━━━━━━━━\u001b[0m\u001b[37m\u001b[0m \u001b[1m0s\u001b[0m 179ms/step\n",
      "Lengkuas: 0.49\n",
      "Kunyit: 0.15\n",
      "Bunga Lawang: 0.09\n"
     ]
    }
   ],
   "source": [
    "import numpy as np\n",
    "from tensorflow.keras.preprocessing import image\n",
    "\n",
    "# Load image\n",
    "image_path = 'test1.jpg'\n",
    "img = image.load_img(image_path, target_size=(224, 224))\n",
    "\n",
    "# Convert image to numpy array\n",
    "x = image.img_to_array(img)\n",
    "x = np.expand_dims(x, axis=0)\n",
    "x = x / 255.0 \n",
    "\n",
    "# Predict\n",
    "pred = model.predict(x)\n",
    "labels = ['Belimbing Sayur', 'Bunga Lawang', 'Jahe', 'Jeruk Nipis', 'Kunyit', 'Lengkuas', 'Mengkudu']\n",
    "\n",
    "# Get indices of top 2 predictions\n",
    "top_2_indices = np.argsort(pred[0])[-3:]  # Ambil dua indeks tertinggi (urutkan dari kecil ke besar)\n",
    "top_2_indices = top_2_indices[::-1]  # Balik urutan menjadi besar ke kecil\n",
    "\n",
    "# Print top 2 predictions with their probabilities\n",
    "for i in top_2_indices:\n",
    "    print(f\"{labels[i]}: {pred[0][i]:.2f}\")\n"
   ]
  },
  {
   "cell_type": "markdown",
   "metadata": {},
   "source": [
    "### Menggunakan Tracehold"
   ]
  },
  {
   "cell_type": "code",
   "execution_count": 36,
   "metadata": {},
   "outputs": [
    {
     "name": "stdout",
     "output_type": "stream",
     "text": [
      "\u001b[1m1/1\u001b[0m \u001b[32m━━━━━━━━━━━━━━━━━━━━\u001b[0m\u001b[37m\u001b[0m \u001b[1m0s\u001b[0m 121ms/step\n",
      "Detected items:\n",
      "Jeruk Nipis: 0.50\n",
      "Mengkudu: 0.35\n"
     ]
    }
   ],
   "source": [
    "import numpy as np\n",
    "from tensorflow.keras.preprocessing import image\n",
    "\n",
    "# Load image\n",
    "image_path = '6a3809c9-790b-4df2-9dc1-ad133d93dc92.jpg'\n",
    "img = image.load_img(image_path, target_size=(224, 224))\n",
    "\n",
    "# Convert image to numpy array\n",
    "x = image.img_to_array(img)\n",
    "x = np.expand_dims(x, axis=0)\n",
    "x = x / 255.0 \n",
    "\n",
    "# Predict\n",
    "pred = model.predict(x)\n",
    "labels = ['Belimbing Sayur', 'Bunga Lawang', 'Jahe', 'Jeruk Nipis', 'Kunyit', 'Lengkuas', 'Mengkudu']\n",
    "\n",
    "# Set probability threshold\n",
    "threshold = 0.1  # Probabilitas minimum untuk dianggap \"terdeteksi\"\n",
    "\n",
    "# Filter predictions based on threshold\n",
    "filtered_predictions = [(labels[i], prob) for i, prob in enumerate(pred[0]) if prob > threshold]\n",
    "\n",
    "# Sort predictions by probability in descending order\n",
    "filtered_predictions = sorted(filtered_predictions, key=lambda x: x[1], reverse=True)\n",
    "\n",
    "# Print filtered predictions\n",
    "if filtered_predictions:\n",
    "    print(\"Detected items:\")\n",
    "    for label, prob in filtered_predictions:\n",
    "        print(f\"{label}: {prob:.2f}\")\n",
    "else:\n",
    "    print(\"No items detected with the given threshold.\")\n"
   ]
  },
  {
   "cell_type": "code",
   "execution_count": 37,
   "metadata": {},
   "outputs": [
    {
     "name": "stdout",
     "output_type": "stream",
     "text": [
      "\u001b[1m1/1\u001b[0m \u001b[32m━━━━━━━━━━━━━━━━━━━━\u001b[0m\u001b[37m\u001b[0m \u001b[1m0s\u001b[0m 38ms/step\n",
      "Probabilities for all labels:\n",
      "Belimbing Sayur: 0.03\n",
      "Bunga Lawang: 0.05\n",
      "Jahe: 0.32\n",
      "Jeruk Nipis: 0.03\n",
      "Kunyit: 0.01\n",
      "Lengkuas: 0.40\n",
      "Mengkudu: 0.27\n",
      "\n",
      "Detected 7 item(s):\n",
      "Lengkuas: 0.40\n",
      "Jahe: 0.32\n",
      "Mengkudu: 0.27\n",
      "Bunga Lawang: 0.05\n",
      "Jeruk Nipis: 0.03\n",
      "Belimbing Sayur: 0.03\n",
      "Kunyit: 0.01\n"
     ]
    }
   ],
   "source": [
    "import numpy as np\n",
    "from tensorflow.keras.preprocessing import image\n",
    "\n",
    "# Load image\n",
    "image_path = 'jahe dan lengkuas.jpg'\n",
    "img = image.load_img(image_path, target_size=(224, 224))\n",
    "\n",
    "# Convert image to numpy array\n",
    "x = image.img_to_array(img)\n",
    "x = np.expand_dims(x, axis=0)\n",
    "x = x / 255.0 \n",
    "\n",
    "# Predict\n",
    "pred = model.predict(x)  # Model harus sudah didefinisikan sebelumnya\n",
    "labels = ['Belimbing Sayur', 'Bunga Lawang', 'Jahe', 'Jeruk Nipis', 'Kunyit', 'Lengkuas', 'Mengkudu']\n",
    "\n",
    "# Debugging: Print probabilities for all labels\n",
    "print(\"Probabilities for all labels:\")\n",
    "for label, prob in zip(labels, pred[0]):\n",
    "    print(f\"{label}: {prob:.2f}\")\n",
    "\n",
    "# Set probability threshold\n",
    "threshold = 0.001  # Probabilitas minimum untuk dianggap \"terdeteksi\"\n",
    "\n",
    "# Get labels with probabilities above the threshold\n",
    "detected_labels = [(labels[i], prob) for i, prob in enumerate(pred[0]) if prob > threshold]\n",
    "\n",
    "# Sort detected labels by probability in descending order\n",
    "detected_labels = sorted(detected_labels, key=lambda x: x[1], reverse=True)\n",
    "\n",
    "# Print detected labels with their probabilities\n",
    "if detected_labels:\n",
    "    print(f\"\\nDetected {len(detected_labels)} item(s):\")\n",
    "    for label, prob in detected_labels:\n",
    "        print(f\"{label}: {prob:.2f}\")\n",
    "else:\n",
    "    print(\"\\nNo items detected with the given threshold.\")\n",
    "\n",
    "# Recommendation: Adjust threshold if needed\n",
    "if len(detected_labels) < 2:  # Contoh kondisi jika hanya 1 atau kurang yang terdeteksi\n",
    "    print(\"\\nConsider lowering the threshold for better detection results.\")\n"
   ]
  },
  {
   "cell_type": "code",
   "execution_count": null,
   "metadata": {},
   "outputs": [],
   "source": []
  }
 ],
 "metadata": {
  "kernelspec": {
   "display_name": "Python 3",
   "language": "python",
   "name": "python3"
  },
  "language_info": {
   "codemirror_mode": {
    "name": "ipython",
    "version": 3
   },
   "file_extension": ".py",
   "mimetype": "text/x-python",
   "name": "python",
   "nbconvert_exporter": "python",
   "pygments_lexer": "ipython3",
   "version": "3.12.2"
  }
 },
 "nbformat": 4,
 "nbformat_minor": 2
}
